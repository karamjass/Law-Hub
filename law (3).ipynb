{
  "cells": [
    {
      "cell_type": "code",
      "execution_count": 5,
      "metadata": {
        "colab": {
          "base_uri": "https://localhost:8080/"
        },
        "id": "u4WrpNcjaqvi",
        "outputId": "d4f44f94-4a69-476c-c5d1-c6f3ba372d76"
      },
      "outputs": [
        {
          "output_type": "stream",
          "name": "stdout",
          "text": [
            "Requirement already satisfied: kaggle in /usr/local/lib/python3.11/dist-packages (1.7.4.5)\n",
            "Requirement already satisfied: bleach in /usr/local/lib/python3.11/dist-packages (from kaggle) (6.2.0)\n",
            "Requirement already satisfied: certifi>=14.05.14 in /usr/local/lib/python3.11/dist-packages (from kaggle) (2025.7.14)\n",
            "Requirement already satisfied: charset-normalizer in /usr/local/lib/python3.11/dist-packages (from kaggle) (3.4.2)\n",
            "Requirement already satisfied: idna in /usr/local/lib/python3.11/dist-packages (from kaggle) (3.10)\n",
            "Requirement already satisfied: protobuf in /usr/local/lib/python3.11/dist-packages (from kaggle) (5.29.5)\n",
            "Requirement already satisfied: python-dateutil>=2.5.3 in /usr/local/lib/python3.11/dist-packages (from kaggle) (2.9.0.post0)\n",
            "Requirement already satisfied: python-slugify in /usr/local/lib/python3.11/dist-packages (from kaggle) (8.0.4)\n",
            "Requirement already satisfied: requests in /usr/local/lib/python3.11/dist-packages (from kaggle) (2.32.3)\n",
            "Requirement already satisfied: setuptools>=21.0.0 in /usr/local/lib/python3.11/dist-packages (from kaggle) (75.2.0)\n",
            "Requirement already satisfied: six>=1.10 in /usr/local/lib/python3.11/dist-packages (from kaggle) (1.17.0)\n",
            "Requirement already satisfied: text-unidecode in /usr/local/lib/python3.11/dist-packages (from kaggle) (1.3)\n",
            "Requirement already satisfied: tqdm in /usr/local/lib/python3.11/dist-packages (from kaggle) (4.67.1)\n",
            "Requirement already satisfied: urllib3>=1.15.1 in /usr/local/lib/python3.11/dist-packages (from kaggle) (2.5.0)\n",
            "Requirement already satisfied: webencodings in /usr/local/lib/python3.11/dist-packages (from kaggle) (0.5.1)\n"
          ]
        }
      ],
      "source": [
        "!pip install kaggle"
      ]
    },
    {
      "cell_type": "code",
      "execution_count": 6,
      "metadata": {
        "id": "3hdKsbrQa3rd"
      },
      "outputs": [],
      "source": [
        "import os\n",
        "import json\n",
        "from zipfile import ZipFile\n",
        "import joblib"
      ]
    },
    {
      "cell_type": "code",
      "execution_count": 8,
      "metadata": {
        "id": "2j3rm-pCK3_6"
      },
      "outputs": [],
      "source": [
        "with open('/content/kaggle (1).json','r')as f:\n",
        "  kaggle_credentials=json.load(f)"
      ]
    },
    {
      "cell_type": "code",
      "execution_count": 10,
      "metadata": {
        "colab": {
          "base_uri": "https://localhost:8080/"
        },
        "id": "iW8vGGDMbDaC",
        "outputId": "c3361ecd-21e0-4aaa-aea1-aee304918c4a"
      },
      "outputs": [
        {
          "output_type": "stream",
          "name": "stdout",
          "text": [
            "Traceback (most recent call last):\n",
            "  File \"/usr/local/bin/kaggle\", line 10, in <module>\n",
            "    sys.exit(main())\n",
            "             ^^^^^^\n",
            "  File \"/usr/local/lib/python3.11/dist-packages/kaggle/cli.py\", line 68, in main\n",
            "    out = args.func(**command_args)\n",
            "          ^^^^^^^^^^^^^^^^^^^^^^^^^\n",
            "  File \"/usr/local/lib/python3.11/dist-packages/kaggle/api/kaggle_api_extended.py\", line 1741, in dataset_download_cli\n",
            "    with self.build_kaggle_client() as kaggle:\n",
            "         ^^^^^^^^^^^^^^^^^^^^^^^^^^\n",
            "  File \"/usr/local/lib/python3.11/dist-packages/kaggle/api/kaggle_api_extended.py\", line 688, in build_kaggle_client\n",
            "    username=self.config_values['username'],\n",
            "             ~~~~~~~~~~~~~~~~~~^^^^^^^^^^^^\n",
            "KeyError: 'username'\n"
          ]
        }
      ],
      "source": [
        "!kaggle datasets download -d nahid002345/bangladesh-law-dataset"
      ]
    },
    {
      "cell_type": "code",
      "execution_count": 9,
      "metadata": {
        "colab": {
          "base_uri": "https://localhost:8080/",
          "height": 90
        },
        "id": "WezC_orNcgGr",
        "outputId": "ce988d98-8528-47fd-e9db-90356ce93b72"
      },
      "outputs": [
        {
          "output_type": "display_data",
          "data": {
            "text/plain": [
              "<IPython.core.display.HTML object>"
            ],
            "text/html": [
              "\n",
              "     <input type=\"file\" id=\"files-0197fd71-f5e7-4b9a-99c1-6ff791062a79\" name=\"files[]\" multiple disabled\n",
              "        style=\"border:none\" />\n",
              "     <output id=\"result-0197fd71-f5e7-4b9a-99c1-6ff791062a79\">\n",
              "      Upload widget is only available when the cell has been executed in the\n",
              "      current browser session. Please rerun this cell to enable.\n",
              "      </output>\n",
              "      <script>// Copyright 2017 Google LLC\n",
              "//\n",
              "// Licensed under the Apache License, Version 2.0 (the \"License\");\n",
              "// you may not use this file except in compliance with the License.\n",
              "// You may obtain a copy of the License at\n",
              "//\n",
              "//      http://www.apache.org/licenses/LICENSE-2.0\n",
              "//\n",
              "// Unless required by applicable law or agreed to in writing, software\n",
              "// distributed under the License is distributed on an \"AS IS\" BASIS,\n",
              "// WITHOUT WARRANTIES OR CONDITIONS OF ANY KIND, either express or implied.\n",
              "// See the License for the specific language governing permissions and\n",
              "// limitations under the License.\n",
              "\n",
              "/**\n",
              " * @fileoverview Helpers for google.colab Python module.\n",
              " */\n",
              "(function(scope) {\n",
              "function span(text, styleAttributes = {}) {\n",
              "  const element = document.createElement('span');\n",
              "  element.textContent = text;\n",
              "  for (const key of Object.keys(styleAttributes)) {\n",
              "    element.style[key] = styleAttributes[key];\n",
              "  }\n",
              "  return element;\n",
              "}\n",
              "\n",
              "// Max number of bytes which will be uploaded at a time.\n",
              "const MAX_PAYLOAD_SIZE = 100 * 1024;\n",
              "\n",
              "function _uploadFiles(inputId, outputId) {\n",
              "  const steps = uploadFilesStep(inputId, outputId);\n",
              "  const outputElement = document.getElementById(outputId);\n",
              "  // Cache steps on the outputElement to make it available for the next call\n",
              "  // to uploadFilesContinue from Python.\n",
              "  outputElement.steps = steps;\n",
              "\n",
              "  return _uploadFilesContinue(outputId);\n",
              "}\n",
              "\n",
              "// This is roughly an async generator (not supported in the browser yet),\n",
              "// where there are multiple asynchronous steps and the Python side is going\n",
              "// to poll for completion of each step.\n",
              "// This uses a Promise to block the python side on completion of each step,\n",
              "// then passes the result of the previous step as the input to the next step.\n",
              "function _uploadFilesContinue(outputId) {\n",
              "  const outputElement = document.getElementById(outputId);\n",
              "  const steps = outputElement.steps;\n",
              "\n",
              "  const next = steps.next(outputElement.lastPromiseValue);\n",
              "  return Promise.resolve(next.value.promise).then((value) => {\n",
              "    // Cache the last promise value to make it available to the next\n",
              "    // step of the generator.\n",
              "    outputElement.lastPromiseValue = value;\n",
              "    return next.value.response;\n",
              "  });\n",
              "}\n",
              "\n",
              "/**\n",
              " * Generator function which is called between each async step of the upload\n",
              " * process.\n",
              " * @param {string} inputId Element ID of the input file picker element.\n",
              " * @param {string} outputId Element ID of the output display.\n",
              " * @return {!Iterable<!Object>} Iterable of next steps.\n",
              " */\n",
              "function* uploadFilesStep(inputId, outputId) {\n",
              "  const inputElement = document.getElementById(inputId);\n",
              "  inputElement.disabled = false;\n",
              "\n",
              "  const outputElement = document.getElementById(outputId);\n",
              "  outputElement.innerHTML = '';\n",
              "\n",
              "  const pickedPromise = new Promise((resolve) => {\n",
              "    inputElement.addEventListener('change', (e) => {\n",
              "      resolve(e.target.files);\n",
              "    });\n",
              "  });\n",
              "\n",
              "  const cancel = document.createElement('button');\n",
              "  inputElement.parentElement.appendChild(cancel);\n",
              "  cancel.textContent = 'Cancel upload';\n",
              "  const cancelPromise = new Promise((resolve) => {\n",
              "    cancel.onclick = () => {\n",
              "      resolve(null);\n",
              "    };\n",
              "  });\n",
              "\n",
              "  // Wait for the user to pick the files.\n",
              "  const files = yield {\n",
              "    promise: Promise.race([pickedPromise, cancelPromise]),\n",
              "    response: {\n",
              "      action: 'starting',\n",
              "    }\n",
              "  };\n",
              "\n",
              "  cancel.remove();\n",
              "\n",
              "  // Disable the input element since further picks are not allowed.\n",
              "  inputElement.disabled = true;\n",
              "\n",
              "  if (!files) {\n",
              "    return {\n",
              "      response: {\n",
              "        action: 'complete',\n",
              "      }\n",
              "    };\n",
              "  }\n",
              "\n",
              "  for (const file of files) {\n",
              "    const li = document.createElement('li');\n",
              "    li.append(span(file.name, {fontWeight: 'bold'}));\n",
              "    li.append(span(\n",
              "        `(${file.type || 'n/a'}) - ${file.size} bytes, ` +\n",
              "        `last modified: ${\n",
              "            file.lastModifiedDate ? file.lastModifiedDate.toLocaleDateString() :\n",
              "                                    'n/a'} - `));\n",
              "    const percent = span('0% done');\n",
              "    li.appendChild(percent);\n",
              "\n",
              "    outputElement.appendChild(li);\n",
              "\n",
              "    const fileDataPromise = new Promise((resolve) => {\n",
              "      const reader = new FileReader();\n",
              "      reader.onload = (e) => {\n",
              "        resolve(e.target.result);\n",
              "      };\n",
              "      reader.readAsArrayBuffer(file);\n",
              "    });\n",
              "    // Wait for the data to be ready.\n",
              "    let fileData = yield {\n",
              "      promise: fileDataPromise,\n",
              "      response: {\n",
              "        action: 'continue',\n",
              "      }\n",
              "    };\n",
              "\n",
              "    // Use a chunked sending to avoid message size limits. See b/62115660.\n",
              "    let position = 0;\n",
              "    do {\n",
              "      const length = Math.min(fileData.byteLength - position, MAX_PAYLOAD_SIZE);\n",
              "      const chunk = new Uint8Array(fileData, position, length);\n",
              "      position += length;\n",
              "\n",
              "      const base64 = btoa(String.fromCharCode.apply(null, chunk));\n",
              "      yield {\n",
              "        response: {\n",
              "          action: 'append',\n",
              "          file: file.name,\n",
              "          data: base64,\n",
              "        },\n",
              "      };\n",
              "\n",
              "      let percentDone = fileData.byteLength === 0 ?\n",
              "          100 :\n",
              "          Math.round((position / fileData.byteLength) * 100);\n",
              "      percent.textContent = `${percentDone}% done`;\n",
              "\n",
              "    } while (position < fileData.byteLength);\n",
              "  }\n",
              "\n",
              "  // All done.\n",
              "  yield {\n",
              "    response: {\n",
              "      action: 'complete',\n",
              "    }\n",
              "  };\n",
              "}\n",
              "\n",
              "scope.google = scope.google || {};\n",
              "scope.google.colab = scope.google.colab || {};\n",
              "scope.google.colab._files = {\n",
              "  _uploadFiles,\n",
              "  _uploadFilesContinue,\n",
              "};\n",
              "})(self);\n",
              "</script> "
            ]
          },
          "metadata": {}
        },
        {
          "output_type": "stream",
          "name": "stdout",
          "text": [
            "Saving kaggle (1).json to kaggle (1) (1).json\n"
          ]
        },
        {
          "output_type": "execute_result",
          "data": {
            "text/plain": [
              "{'kaggle (1) (1).json': b'{\"username\":\"karamjass\",\"key\":\"a89e9210126a68efea4de266f29e2cc6\"}'}"
            ]
          },
          "metadata": {},
          "execution_count": 9
        }
      ],
      "source": [
        "from google.colab import files\n",
        "files.upload()\n"
      ]
    },
    {
      "cell_type": "code",
      "execution_count": 11,
      "metadata": {
        "id": "9UGiQGNtcn5P"
      },
      "outputs": [],
      "source": [
        "import os\n",
        "import shutil\n",
        "\n",
        "# Ensure the .kaggle directory exists\n",
        "os.makedirs(\"/root/.kaggle\", exist_ok=True)\n",
        "\n",
        "# Move and rename the uploaded file\n",
        "shutil.copy(\"/content/kaggle (1) (1).json\", \"/root/.kaggle/kaggle.json\")\n",
        "\n",
        "# Set the appropriate file permissions\n",
        "os.chmod(\"/root/.kaggle/kaggle.json\", 0o600)"
      ]
    },
    {
      "cell_type": "code",
      "execution_count": 12,
      "metadata": {
        "colab": {
          "base_uri": "https://localhost:8080/"
        },
        "id": "gWXwQSObdJhC",
        "outputId": "379c9401-d759-4593-9b40-160d5176a167"
      },
      "outputs": [
        {
          "output_type": "stream",
          "name": "stdout",
          "text": [
            "Dataset URL: https://www.kaggle.com/datasets/nahid002345/bangladesh-law-dataset\n",
            "License(s): unknown\n",
            "Downloading bangladesh-law-dataset.zip to /content\n",
            "  0% 0.00/15.8M [00:00<?, ?B/s]\n",
            "100% 15.8M/15.8M [00:00<00:00, 974MB/s]\n"
          ]
        }
      ],
      "source": [
        "!kaggle datasets download -d nahid002345/bangladesh-law-dataset\n"
      ]
    },
    {
      "cell_type": "code",
      "execution_count": 13,
      "metadata": {
        "colab": {
          "base_uri": "https://localhost:8080/"
        },
        "id": "WkJ5zFe_dQEj",
        "outputId": "141c7abb-8422-45d1-d16c-6e0ddd5e3868"
      },
      "outputs": [
        {
          "output_type": "stream",
          "name": "stdout",
          "text": [
            "Archive:  bangladesh-law-dataset.zip\n",
            "  inflating: bd_laws_translated_05022022.csv  \n",
            "  inflating: bdlaws_ds_formatted.csv  \n",
            "  inflating: bdlaws_ds_formatted.json  \n"
          ]
        }
      ],
      "source": [
        "!unzip bangladesh-law-dataset.zip\n"
      ]
    },
    {
      "cell_type": "code",
      "execution_count": 14,
      "metadata": {
        "colab": {
          "base_uri": "https://localhost:8080/"
        },
        "id": "GH06wG0Rjij5",
        "outputId": "8d419c9e-d8ef-47c5-c80a-5acac00e6fd3"
      },
      "outputs": [
        {
          "output_type": "stream",
          "name": "stdout",
          "text": [
            "Dataset URL: https://www.kaggle.com/datasets/umarbutler/open-australian-legal-corpus\n",
            "License(s): other\n",
            "Downloading open-australian-legal-corpus.zip to /content\n",
            " 99% 2.34G/2.38G [00:25<00:00, 165MB/s]\n",
            "100% 2.38G/2.38G [00:25<00:00, 98.7MB/s]\n"
          ]
        }
      ],
      "source": [
        "!kaggle datasets download -d umarbutler/open-australian-legal-corpus"
      ]
    },
    {
      "cell_type": "code",
      "execution_count": 15,
      "metadata": {
        "colab": {
          "base_uri": "https://localhost:8080/",
          "height": 156
        },
        "id": "Lj9WoWFldoU5",
        "outputId": "fe8e68a3-b773-477e-95f5-7de88db502cf"
      },
      "outputs": [
        {
          "output_type": "execute_result",
          "data": {
            "text/plain": [
              "<function seaborn.rcmod.set(*args, **kwargs)>"
            ],
            "text/html": [
              "<div style=\"max-width:800px; border: 1px solid var(--colab-border-color);\"><style>\n",
              "      pre.function-repr-contents {\n",
              "        overflow-x: auto;\n",
              "        padding: 8px 12px;\n",
              "        max-height: 500px;\n",
              "      }\n",
              "\n",
              "      pre.function-repr-contents.function-repr-contents-collapsed {\n",
              "        cursor: pointer;\n",
              "        max-height: 100px;\n",
              "      }\n",
              "    </style>\n",
              "    <pre style=\"white-space: initial; background:\n",
              "         var(--colab-secondary-surface-color); padding: 8px 12px;\n",
              "         border-bottom: 1px solid var(--colab-border-color);\"><b>seaborn.rcmod.set</b><br/>def set(*args, **kwargs)</pre><pre class=\"function-repr-contents function-repr-contents-collapsed\" style=\"\"><a class=\"filepath\" style=\"display:none\" href=\"#\">/usr/local/lib/python3.11/dist-packages/seaborn/rcmod.py</a>Alias for :func:`set_theme`, which is the preferred interface.\n",
              "\n",
              "This function may be removed in the future.</pre>\n",
              "      <script>\n",
              "      if (google.colab.kernel.accessAllowed && google.colab.files && google.colab.files.view) {\n",
              "        for (const element of document.querySelectorAll('.filepath')) {\n",
              "          element.style.display = 'block'\n",
              "          element.onclick = (event) => {\n",
              "            event.preventDefault();\n",
              "            event.stopPropagation();\n",
              "            google.colab.files.view(element.textContent, 126);\n",
              "          };\n",
              "        }\n",
              "      }\n",
              "      for (const element of document.querySelectorAll('.function-repr-contents')) {\n",
              "        element.onclick = (event) => {\n",
              "          event.preventDefault();\n",
              "          event.stopPropagation();\n",
              "          element.classList.toggle('function-repr-contents-collapsed');\n",
              "        };\n",
              "      }\n",
              "      </script>\n",
              "      </div>"
            ]
          },
          "metadata": {},
          "execution_count": 15
        }
      ],
      "source": [
        "import os\n",
        "import numpy as np\n",
        "import pandas as pd\n",
        "import matplotlib.pyplot as plt\n",
        "%matplotlib inline\n",
        "import seaborn as sns\n",
        "sns.set\n"
      ]
    },
    {
      "cell_type": "code",
      "execution_count": 16,
      "metadata": {
        "id": "GXlOrXlmdqtE"
      },
      "outputs": [],
      "source": [
        "df1=pd.read_csv(\"/content/bd_laws_translated_05022022.csv\")"
      ]
    },
    {
      "cell_type": "code",
      "execution_count": 17,
      "metadata": {
        "colab": {
          "base_uri": "https://localhost:8080/"
        },
        "id": "q_uw3voHd1ik",
        "outputId": "b321c315-4505-400d-b51a-7755086e0d55"
      },
      "outputs": [
        {
          "output_type": "stream",
          "name": "stdout",
          "text": [
            "Dataset URL: https://www.kaggle.com/datasets/ayeshajadoon/pakistan-law-data\n",
            "License(s): Attribution 4.0 International (CC BY 4.0)\n",
            "Downloading pakistan-law-data.zip to /content\n",
            "  0% 0.00/11.9M [00:00<?, ?B/s]\n",
            "100% 11.9M/11.9M [00:00<00:00, 602MB/s]\n"
          ]
        }
      ],
      "source": [
        "!kaggle datasets download -d ayeshajadoon/pakistan-law-data"
      ]
    },
    {
      "cell_type": "code",
      "execution_count": 18,
      "metadata": {
        "colab": {
          "base_uri": "https://localhost:8080/"
        },
        "id": "rORjFx03eAm7",
        "outputId": "8d37afde-4a9a-44d5-82fa-27811d4f0a45"
      },
      "outputs": [
        {
          "output_type": "stream",
          "name": "stdout",
          "text": [
            "Archive:  pakistan-law-data.zip\n",
            "  inflating: pdf_data.json           \n"
          ]
        }
      ],
      "source": [
        "!unzip pakistan-law-data.zip"
      ]
    },
    {
      "cell_type": "code",
      "execution_count": 19,
      "metadata": {
        "id": "95QQ8ARyeKPz"
      },
      "outputs": [],
      "source": [
        "df2=pd.read_json(\"/content/pdf_data.json\")"
      ]
    },
    {
      "cell_type": "code",
      "execution_count": 20,
      "metadata": {
        "colab": {
          "base_uri": "https://localhost:8080/",
          "height": 206
        },
        "id": "Wi62_T4ieSRN",
        "outputId": "51b28247-12ad-4a01-910e-abfacc56cf2d"
      },
      "outputs": [
        {
          "output_type": "execute_result",
          "data": {
            "text/plain": [
              "                                           file_name  \\\n",
              "0  administrator00532129aba2e10fe634ab8fbd94c50b....   \n",
              "1  administrator00607dfddff08b6d0a71b341f1667f23....   \n",
              "2  administrator0088a4e5781b74cea37ea233c4a2e2c5....   \n",
              "3  administrator00c80ea2ca2b4893b362c3c44bddafe2....   \n",
              "4  administrator0101918a1a0e6cdb96f6e0e8f3453767....   \n",
              "\n",
              "                                                text  \n",
              "0   \\nPage 1 of 19  \\n \\n \\n \\nTHE PRIVATISATION ...  \n",
              "1   \\nPage 1 of 5 \\n \\n \\n \\nTHE PAKISTAN STUDY C...  \n",
              "2  T H E   C H U R C H   O F   S C O T L A N D   ...  \n",
              "3  THE ARMED FORCES (EMERGENCY DUTIES) ACT, 1947\\...  \n",
              "4   \\nPage 1 of 3 \\n  \\n \\n \\nTHE  NET WORK  ANAL...  "
            ],
            "text/html": [
              "\n",
              "  <div id=\"df-a03f23e6-a556-4f10-8547-5b180f309a91\" class=\"colab-df-container\">\n",
              "    <div>\n",
              "<style scoped>\n",
              "    .dataframe tbody tr th:only-of-type {\n",
              "        vertical-align: middle;\n",
              "    }\n",
              "\n",
              "    .dataframe tbody tr th {\n",
              "        vertical-align: top;\n",
              "    }\n",
              "\n",
              "    .dataframe thead th {\n",
              "        text-align: right;\n",
              "    }\n",
              "</style>\n",
              "<table border=\"1\" class=\"dataframe\">\n",
              "  <thead>\n",
              "    <tr style=\"text-align: right;\">\n",
              "      <th></th>\n",
              "      <th>file_name</th>\n",
              "      <th>text</th>\n",
              "    </tr>\n",
              "  </thead>\n",
              "  <tbody>\n",
              "    <tr>\n",
              "      <th>0</th>\n",
              "      <td>administrator00532129aba2e10fe634ab8fbd94c50b....</td>\n",
              "      <td>\\nPage 1 of 19  \\n \\n \\n \\nTHE PRIVATISATION ...</td>\n",
              "    </tr>\n",
              "    <tr>\n",
              "      <th>1</th>\n",
              "      <td>administrator00607dfddff08b6d0a71b341f1667f23....</td>\n",
              "      <td>\\nPage 1 of 5 \\n \\n \\n \\nTHE PAKISTAN STUDY C...</td>\n",
              "    </tr>\n",
              "    <tr>\n",
              "      <th>2</th>\n",
              "      <td>administrator0088a4e5781b74cea37ea233c4a2e2c5....</td>\n",
              "      <td>T H E   C H U R C H   O F   S C O T L A N D   ...</td>\n",
              "    </tr>\n",
              "    <tr>\n",
              "      <th>3</th>\n",
              "      <td>administrator00c80ea2ca2b4893b362c3c44bddafe2....</td>\n",
              "      <td>THE ARMED FORCES (EMERGENCY DUTIES) ACT, 1947\\...</td>\n",
              "    </tr>\n",
              "    <tr>\n",
              "      <th>4</th>\n",
              "      <td>administrator0101918a1a0e6cdb96f6e0e8f3453767....</td>\n",
              "      <td>\\nPage 1 of 3 \\n  \\n \\n \\nTHE  NET WORK  ANAL...</td>\n",
              "    </tr>\n",
              "  </tbody>\n",
              "</table>\n",
              "</div>\n",
              "    <div class=\"colab-df-buttons\">\n",
              "\n",
              "  <div class=\"colab-df-container\">\n",
              "    <button class=\"colab-df-convert\" onclick=\"convertToInteractive('df-a03f23e6-a556-4f10-8547-5b180f309a91')\"\n",
              "            title=\"Convert this dataframe to an interactive table.\"\n",
              "            style=\"display:none;\">\n",
              "\n",
              "  <svg xmlns=\"http://www.w3.org/2000/svg\" height=\"24px\" viewBox=\"0 -960 960 960\">\n",
              "    <path d=\"M120-120v-720h720v720H120Zm60-500h600v-160H180v160Zm220 220h160v-160H400v160Zm0 220h160v-160H400v160ZM180-400h160v-160H180v160Zm440 0h160v-160H620v160ZM180-180h160v-160H180v160Zm440 0h160v-160H620v160Z\"/>\n",
              "  </svg>\n",
              "    </button>\n",
              "\n",
              "  <style>\n",
              "    .colab-df-container {\n",
              "      display:flex;\n",
              "      gap: 12px;\n",
              "    }\n",
              "\n",
              "    .colab-df-convert {\n",
              "      background-color: #E8F0FE;\n",
              "      border: none;\n",
              "      border-radius: 50%;\n",
              "      cursor: pointer;\n",
              "      display: none;\n",
              "      fill: #1967D2;\n",
              "      height: 32px;\n",
              "      padding: 0 0 0 0;\n",
              "      width: 32px;\n",
              "    }\n",
              "\n",
              "    .colab-df-convert:hover {\n",
              "      background-color: #E2EBFA;\n",
              "      box-shadow: 0px 1px 2px rgba(60, 64, 67, 0.3), 0px 1px 3px 1px rgba(60, 64, 67, 0.15);\n",
              "      fill: #174EA6;\n",
              "    }\n",
              "\n",
              "    .colab-df-buttons div {\n",
              "      margin-bottom: 4px;\n",
              "    }\n",
              "\n",
              "    [theme=dark] .colab-df-convert {\n",
              "      background-color: #3B4455;\n",
              "      fill: #D2E3FC;\n",
              "    }\n",
              "\n",
              "    [theme=dark] .colab-df-convert:hover {\n",
              "      background-color: #434B5C;\n",
              "      box-shadow: 0px 1px 3px 1px rgba(0, 0, 0, 0.15);\n",
              "      filter: drop-shadow(0px 1px 2px rgba(0, 0, 0, 0.3));\n",
              "      fill: #FFFFFF;\n",
              "    }\n",
              "  </style>\n",
              "\n",
              "    <script>\n",
              "      const buttonEl =\n",
              "        document.querySelector('#df-a03f23e6-a556-4f10-8547-5b180f309a91 button.colab-df-convert');\n",
              "      buttonEl.style.display =\n",
              "        google.colab.kernel.accessAllowed ? 'block' : 'none';\n",
              "\n",
              "      async function convertToInteractive(key) {\n",
              "        const element = document.querySelector('#df-a03f23e6-a556-4f10-8547-5b180f309a91');\n",
              "        const dataTable =\n",
              "          await google.colab.kernel.invokeFunction('convertToInteractive',\n",
              "                                                    [key], {});\n",
              "        if (!dataTable) return;\n",
              "\n",
              "        const docLinkHtml = 'Like what you see? Visit the ' +\n",
              "          '<a target=\"_blank\" href=https://colab.research.google.com/notebooks/data_table.ipynb>data table notebook</a>'\n",
              "          + ' to learn more about interactive tables.';\n",
              "        element.innerHTML = '';\n",
              "        dataTable['output_type'] = 'display_data';\n",
              "        await google.colab.output.renderOutput(dataTable, element);\n",
              "        const docLink = document.createElement('div');\n",
              "        docLink.innerHTML = docLinkHtml;\n",
              "        element.appendChild(docLink);\n",
              "      }\n",
              "    </script>\n",
              "  </div>\n",
              "\n",
              "\n",
              "    <div id=\"df-66e32eb7-d3f2-49ee-8f4e-2f0c69c55032\">\n",
              "      <button class=\"colab-df-quickchart\" onclick=\"quickchart('df-66e32eb7-d3f2-49ee-8f4e-2f0c69c55032')\"\n",
              "                title=\"Suggest charts\"\n",
              "                style=\"display:none;\">\n",
              "\n",
              "<svg xmlns=\"http://www.w3.org/2000/svg\" height=\"24px\"viewBox=\"0 0 24 24\"\n",
              "     width=\"24px\">\n",
              "    <g>\n",
              "        <path d=\"M19 3H5c-1.1 0-2 .9-2 2v14c0 1.1.9 2 2 2h14c1.1 0 2-.9 2-2V5c0-1.1-.9-2-2-2zM9 17H7v-7h2v7zm4 0h-2V7h2v10zm4 0h-2v-4h2v4z\"/>\n",
              "    </g>\n",
              "</svg>\n",
              "      </button>\n",
              "\n",
              "<style>\n",
              "  .colab-df-quickchart {\n",
              "      --bg-color: #E8F0FE;\n",
              "      --fill-color: #1967D2;\n",
              "      --hover-bg-color: #E2EBFA;\n",
              "      --hover-fill-color: #174EA6;\n",
              "      --disabled-fill-color: #AAA;\n",
              "      --disabled-bg-color: #DDD;\n",
              "  }\n",
              "\n",
              "  [theme=dark] .colab-df-quickchart {\n",
              "      --bg-color: #3B4455;\n",
              "      --fill-color: #D2E3FC;\n",
              "      --hover-bg-color: #434B5C;\n",
              "      --hover-fill-color: #FFFFFF;\n",
              "      --disabled-bg-color: #3B4455;\n",
              "      --disabled-fill-color: #666;\n",
              "  }\n",
              "\n",
              "  .colab-df-quickchart {\n",
              "    background-color: var(--bg-color);\n",
              "    border: none;\n",
              "    border-radius: 50%;\n",
              "    cursor: pointer;\n",
              "    display: none;\n",
              "    fill: var(--fill-color);\n",
              "    height: 32px;\n",
              "    padding: 0;\n",
              "    width: 32px;\n",
              "  }\n",
              "\n",
              "  .colab-df-quickchart:hover {\n",
              "    background-color: var(--hover-bg-color);\n",
              "    box-shadow: 0 1px 2px rgba(60, 64, 67, 0.3), 0 1px 3px 1px rgba(60, 64, 67, 0.15);\n",
              "    fill: var(--button-hover-fill-color);\n",
              "  }\n",
              "\n",
              "  .colab-df-quickchart-complete:disabled,\n",
              "  .colab-df-quickchart-complete:disabled:hover {\n",
              "    background-color: var(--disabled-bg-color);\n",
              "    fill: var(--disabled-fill-color);\n",
              "    box-shadow: none;\n",
              "  }\n",
              "\n",
              "  .colab-df-spinner {\n",
              "    border: 2px solid var(--fill-color);\n",
              "    border-color: transparent;\n",
              "    border-bottom-color: var(--fill-color);\n",
              "    animation:\n",
              "      spin 1s steps(1) infinite;\n",
              "  }\n",
              "\n",
              "  @keyframes spin {\n",
              "    0% {\n",
              "      border-color: transparent;\n",
              "      border-bottom-color: var(--fill-color);\n",
              "      border-left-color: var(--fill-color);\n",
              "    }\n",
              "    20% {\n",
              "      border-color: transparent;\n",
              "      border-left-color: var(--fill-color);\n",
              "      border-top-color: var(--fill-color);\n",
              "    }\n",
              "    30% {\n",
              "      border-color: transparent;\n",
              "      border-left-color: var(--fill-color);\n",
              "      border-top-color: var(--fill-color);\n",
              "      border-right-color: var(--fill-color);\n",
              "    }\n",
              "    40% {\n",
              "      border-color: transparent;\n",
              "      border-right-color: var(--fill-color);\n",
              "      border-top-color: var(--fill-color);\n",
              "    }\n",
              "    60% {\n",
              "      border-color: transparent;\n",
              "      border-right-color: var(--fill-color);\n",
              "    }\n",
              "    80% {\n",
              "      border-color: transparent;\n",
              "      border-right-color: var(--fill-color);\n",
              "      border-bottom-color: var(--fill-color);\n",
              "    }\n",
              "    90% {\n",
              "      border-color: transparent;\n",
              "      border-bottom-color: var(--fill-color);\n",
              "    }\n",
              "  }\n",
              "</style>\n",
              "\n",
              "      <script>\n",
              "        async function quickchart(key) {\n",
              "          const quickchartButtonEl =\n",
              "            document.querySelector('#' + key + ' button');\n",
              "          quickchartButtonEl.disabled = true;  // To prevent multiple clicks.\n",
              "          quickchartButtonEl.classList.add('colab-df-spinner');\n",
              "          try {\n",
              "            const charts = await google.colab.kernel.invokeFunction(\n",
              "                'suggestCharts', [key], {});\n",
              "          } catch (error) {\n",
              "            console.error('Error during call to suggestCharts:', error);\n",
              "          }\n",
              "          quickchartButtonEl.classList.remove('colab-df-spinner');\n",
              "          quickchartButtonEl.classList.add('colab-df-quickchart-complete');\n",
              "        }\n",
              "        (() => {\n",
              "          let quickchartButtonEl =\n",
              "            document.querySelector('#df-66e32eb7-d3f2-49ee-8f4e-2f0c69c55032 button');\n",
              "          quickchartButtonEl.style.display =\n",
              "            google.colab.kernel.accessAllowed ? 'block' : 'none';\n",
              "        })();\n",
              "      </script>\n",
              "    </div>\n",
              "\n",
              "    </div>\n",
              "  </div>\n"
            ],
            "application/vnd.google.colaboratory.intrinsic+json": {
              "type": "dataframe",
              "variable_name": "df2",
              "summary": "{\n  \"name\": \"df2\",\n  \"rows\": 969,\n  \"fields\": [\n    {\n      \"column\": \"file_name\",\n      \"properties\": {\n        \"dtype\": \"string\",\n        \"num_unique_values\": 969,\n        \"samples\": [\n          \"administrator95beb1cbbbc3188503d90096b5cd1be4.pdf.txt\",\n          \"administrator3a862450cdd72c28333bf4c2c147d034.pdf.txt\",\n          \"administrator62c1ed39158cce35c09320d9bb9a7f36.pdf.txt\"\n        ],\n        \"semantic_type\": \"\",\n        \"description\": \"\"\n      }\n    },\n    {\n      \"column\": \"text\",\n      \"properties\": {\n        \"dtype\": \"string\",\n        \"num_unique_values\": 895,\n        \"samples\": [\n          \" \\nPage 1 of 7 \\n \\n \\n \\n \\n \\nTHE COVID -19 (PREVENTION OF HOARDING) ACT, 2021  \\n \\n \\n  \\nCONTENTS  \\n___________ __ \\n \\n \\n1. Short title, extent, application and comme ncement. \\n2. Definitions. \\n3. Offence of hoarding  \\n4. Power to search  for and seizure of scheduled article.  \\n5. Power to auction seized Scheduled articles.  \\n6. Cognizance of offence and arrest without warrant  \\n7. Offences by corporations etc . \\n8. Power to try offences summarily  \\n9. Appeal  \\n10. Reward for informers  \\n11. Information and declarations  \\n12. Offen ces in respect of false reporting and failure to disclose information  \\n13. Protection of action taken under the Act  \\n14. Action in aid of an officer  \\n15. Power to make rules  \\n16. Act to override other laws  \\n17. Power to amend Schedule  \\n \\nUpdated till 11.04.2023  \\nPage 2 of 7 \\n  \\nTHE COVID -19 (PREVENTION OF HOARDING) ACT, 2021  \\nACT NO. XLVI OF 2021  \\n[3rd December,  2021 ] \\nAct \\nto provide for the prevention of hoarding in respect of scheduled articles , in the  wake of an emergent \\nsituation resulting from the outbreak of the Corona virus  pandemic  (COVID -19) \\n \\nWHEREAS  it is expedient  to provide for the prevention of hoarding in  respect of scheduled articles \\nin an emergent situation resulting from the outbreak  of the Corona virus pandemic (COVID -19) and for \\nmatters connected therewith  and ancillary  thereto;  \\n \\nWHEREAS  Pakistan  is a State  Party  to the International  Health  Regulations, 2005, issued by the \\nWorld Health Organization, according to which  Pakistan  is under  a direct obligation  to prevent,  protect  \\nagainst,  control  and provide  a public  health  response  to international  disease  \\n \\nWHEREAS the World Health Organization has declared the Corona virus  (COVID -19) to be a  \\npandemic requiring  multifaceted  responses;  \\n \\nAND WHEREAS events of hoarding contribute to adversities, in geometric  progression, to the  \\npeople  at large,  especially  in circumstances  of partial  or complete  lock-down;  \\n \\n1. Short  title,  extent  and commencement. \\u2014(1) This Act shall  be called  COVID -19  \\n(Prevention of  Hoarding) Act, 2021.  \\n(2) It extends  to the Islamabad  Capital  Territory.  \\n(3) It shall come  into force  at once.  \\n \\n2. Definitions. \\u2014In this Act, unless  there  is anything  repugnant  in the subject  or context, \\u2014 \\n \\na. \\u201cdealer\\u201d means any person, trader, partnership, firm, whether  registered  or \\nunregistered,  an association  or body  of persons  or individuals, or a company, \\nor their agents carrying on the  business of purchasing, selling or stocking of \\nany scheduled  article  and includes  a manufacturer,  producer,  packager,  \\nimporter,  exporter,  wholesaler  or retailer of  such article;  \\nb. \\u201cGovernment\\u201d  means  the Federal Government;  \\nc. \\u201choard\\u201d  or \\u201choarding\\u201d\\u2015  \\n \\ni. means  stocking  or storing  anything  in excess  of the maximum quantity \\nof scheduled articles allowed to be  held in stock  or storage,  in the \\nmanner  as may be prescribed; or  \\nii. where no maximum quantity of a scheduled article is  prescribed under  \\nPage 3 of 7 \\n sub-clause (i), \\u201choard\\u201d or \\u201choarding\\u201d  shall  mean  stocking  or \\naccumulation  of scheduled  articles without offering such articles for \\nsale, despite  there being  a demand by  consumers.  \\n \\nd. \\u201cmaximum quantity\\u201d means the quantity of an item that is  currently  available  \\nfor sale;  \\n \\ne. \\u201cofficer\\u201d means the deputy commissioner of the Islamabad  Capital Territory \\nand such other officer as may be authorized  by him in this behalf;  \\n \\nf. \\u201cprescribed\\u201d  means  prescribed  by rules  made  under  this Act; and \\n \\ng. \\u201cscheduled  article\\u201d  means  any of the articles  specified  in the Schedule  to this \\nAct. \\n \\n3. Offence of hoarding. \\u2014(1) Any dealer who is found to hoard any  scheduled  article  shall  be \\nguilty  of an offence  punishable  with simple  imprisonment up to three years and fine equivalent to fifty \\npercent of the value of  the scheduled articles  involved in the  case.  \\n \\n(2) The value of scheduled articles for purposes of sub -section (1) shall  be determined  in the \\nmanner as may  be prescribed.  \\n \\n4. Power to search for and seizure of scheduled article. \\u2014(1) When  an officer has reasonable  \\ngrounds  to suspect,  either  upon  information  from  anyone  or on his own,  that there  has been  a \\ncontravention  of any of the provisions of this Act,  he may, after recording in writing the grounds of his  \\nsuspicion, enter and search, without any warrant, any place where a dealer keeps,  or is for the time being \\nkeeping, any scheduled article, accounts, registers or any  other  related  items or  things.  \\n \\n(2) Upon entry in and search of a premise under sub -section (1), if  scheduled articles are found \\nat such premise in contravention of this Act, the  officer shall immediately seize the same and prepare a \\ndetailed report of the  scheduled  articles  and other  relevant  material found during  the search.  \\n \\nThe provisions of the Code of Criminal Procedure, 1898 (Act V of  1898)  shall  not be applicable \\non search and  seizure  under  this Act  \\n \\n5. Offence of hoarding. \\u2014(1) Any dealer who is found to hoard any  scheduled  article  shall  be \\nguilty  of an offence  punishable  with simple  imprisonment up to three years and fine equiv alent to fifty \\npercent of the value of  the scheduled articles  involved in the  case.  \\n \\n(2) The value of scheduled articles for purposes of sub -section (1) shall  be determined  in the \\nmanner as may  be prescribed.  \\n \\n6. Power to search for and seizure of scheduled article.\\u2014(1) When  an officer  has reasonable  \\ngrounds  to suspect,  either  upon  information  from  anyone  or on his own,  that there  has been  a \\ncontravention  of any of the provisions of this Act,  he may, after recording in writing the grounds of his  \\nsuspicion, enter and search, without any warrant, any place where a dealer keeps,  or is for the time being \\nkeeping, any scheduled article, accounts, registers or any  other  related  items or  things.   \\nPage 4 of 7 \\n  \\n(2) Upon entry in and search of a premise under sub -section (1), if  scheduled articles are found at \\nsuch premise in contravention of this Act, the  officer shall immediately seize the same and prepare a \\ndetailed report of the  scheduled  articles  and other  relevant  material found during  the search.  \\n \\n(3) The provisions of the Code  of Criminal Procedure, 1898 (Act V of  1898)  shall  not be applicable \\non search and  seizure  under  this Act.  \\n \\n7. Power to auction seized Scheduled articles.\\u2014(1) Notwithstanding  anything contained in any \\nother law for the time being in force and in addition to  the prosecution under this Act, the officer may sell \\nthe scheduled articles seized  under  section 4 by  auction,  in the manner as  may be prescribed.  \\n \\n(2)  The proceeds collected under sub -section (1) shall be deposited in a  profit  bearing  bank  account  \\nin the Nat ional  Bank  of Pakistan, and  if\\u2014 \\n \\n(a) the accused  person  whose  scheduled  articles  are auctioned is acquitted of an offence \\nunder section 3, the  deposited  amount  alongwith  the profit  shall  be released  to the said  \\naccused;  or \\n \\n(b) the accused  person  whose  scheduled  articles  are auctioned is convicted of an offence \\nunder section 3, the  deposited amount alongwith the profit shall be released  into the \\ngovernment  exchequer.  \\n \\n8. Cognizance  of offence  and arrest  without  warrant.\\u2014(1) Notwithstanding  anything  \\ncontained  in the Code  of Criminal  Procedure,  1898  (V of 1898), all offences punishable under this Act \\nshall be cognizable and non - bailable.  \\n \\n(2) The Special Magistrate under section 8 shall take cognizance of an  offence  under  this Act,  \\nupon written  information by  the officer.  \\n \\n(3)  An officer may arrest any person without warrant against whom  there  is credible  information  \\nthat he  has committed  an offence  under  this Act. \\n \\n9. Offences by corporations etc. \\u2014If an offence under this Act is  committed by a company or \\nbody corporate or a par tnership or other association  or body of persons or individuals, every director, \\nmanager, secretary, member or  other officer, the principal, primary or beneficial owner or agents thereof \\nshall,  unless he proves that the contravention took place without his  knowledge or that  he exercised all \\ndue diligence to prevent such contravention, be deemed to be  guilty  of such contravention  and shall be  \\nliable  to punishment under  this Act. \\n \\n10. Power to try offences summarily. \\u2014(1) Offences punishable under  this Act shall be tried by \\na Special Magistrate appointed under section 14A of the  Code of Criminal Procedure, 1898 (Act V of \\n1898), in a summary manner as  provided  in sections 262  to 265 of  the said Code:  \\n \\nProvided  that sub-section  (2) of section  262 of the Code  of Criminal  Procedure,  1898  (Act V  \\nPage 5 of 7 \\n of 1898)  shall  not apply.  \\n \\n(2) If a Special  Magistrate  has reason  to suspect  that any offence  punishable  under  this Act has \\nbeen  committed  by any dealer  or owner  of a godown  or a storage place or its management or agent thereof,  \\nhe may enter the place or  premises  where  the offence  has been committed  and try the offence  on the spot. \\n \\n(3) The trial under  this Act shall  be concluded  within  thirty  days.  \\n \\n11. Appeal.\\u2014(1) A person aggrieved by an order of conviction and  sentence under  of this Act \\nmay file  an appeal before  a District  and Sessions  Judge  of the  Islamabad  Capital  Territory  within  thirty  \\ndays of the  said order.  \\n \\n(2)  An appeal  under  sub-section  (1) shall be disposed  of within  thirty  days.  \\n \\n12. Reward for informers. \\u2014Anyone who provides an information to  an officer with regard to \\nany act or acts of hoarding, which results in a conviction  and release of funds into the government \\nexchequer, shall be entitled to an award  equivalent to ten percent of the amount released to the government \\nexch equer, in  the manner  as may  be prescribed.  \\n \\n13. Information and declarations. \\u2014(1) Every dealer shall provide to  an officer,  such \\ninformation  regarding  production,  importation,  exportation,  purchase, stock, sale or distribution of any of \\nthe scheduled articles as the officer  may,  by an order  in writing, require.  \\n \\n(2) The officer may direct the owners or manufactures of scheduled  articles  or owners  and \\nmanagement  of godowns  or storage  places  or their agents  to declare  stocks  of any particular  item,  owned  or \\nmanaged  by them  at their premises,  at any point  in time or at such periodical  intervals  as may be deemed  fit. \\n \\n(3) The declaration to be made under sub -section (2), shall, inter alia , include, the quantity of \\nstock, its value, date of purchase, copies of procurement  invoices  in any given  time frame,  along  with details  \\nof any sale or sale agreements.  \\n(4) The officer may verify the stock as well as the books or documents  in respect of the stock, \\npurchase or sale, at any time, in respect of scheduled  articles.  \\n \\n(5) While  carrying  out the verification  of stock  in terms  of sub-section  (4) or upon receipt of any \\ninformation from whatever source, the officer may  require the dealer, owner or manager of a godown or \\nstorage place to furnish the  details of persons, shops, firms or  companies, etc. from whom the purchases \\nhave  been  made and  to whom  the sales have been or  are to be made.  \\n \\n14. Offences in respect of false reporting and failure to disclose  information. \\u2014Any dealer or \\nowner of a godown or a storage place or their  management or agent, who fails to provide information or \\ngives fake or false  information  with regard  to any of the items  or details  under  section  11, or provides \\ninformation of contracts, agreements or arrangements found to be fake  or false, or is otherwise found to \\nbe involved in speculative dealings or market  manipulation, creating artificial, false or misleading \\nappearance with respect to  the price of, or market for, the scheduled articles, shall be guilty of an offence   \\nPage 6 of 7 \\n punishable with simple imprisonment upto thre e years and fine equivalent to one  million  Rupees.  \\n \\n15. Protection  of action  taken  under  the Act.\\u2014(1) No suit, prosecution or other legal \\nproceedings shall lie against any person for anything  done  in good faith.  \\n \\n(2) Except as provided in this Act, no suit or other legal proceedings  shall lie  to challenge \\nany proceedings  under this  Act on any ground.  \\n \\n16. Action in aid of an officer. \\u2014In giving effect to the provisions of  this Act, an officer, where \\nhe deems fit, may seek the aid of law enforcement  agencies.  \\n5. Power to make rules. \\u2014Within six months of the commencement  of this Act, the Government \\nmay, by notification in the official  Gazette,  make  rules to carry out the purpose  of this Act. \\n \\n6. Act to override other laws. \\u2014The provisions of this Act shall have  effect notwithstanding \\nanything contained in any other law for the time being in  force.  \\n \\n7. Power  to amend  Schedule. \\u2014The Government  may,  by notification  in official  Gazette,  \\namend  the schedule  so as to add to, amend  or omit from  it, any  commodity  or class of  commodities.  \\n \\n \\n \\n \\n \\n \\n \\n \\n \\n \\n \\n \\n \\n \\n \\n \\n \\n \\n \\n  \\nPage 7 of 7 \\n  \\n \\n \\n \\n \\n \\n \\n \\nSCHEDULE  \\n(see section  2) \\n \\nSr. No. Item  Sr. No. Item  \\n(1) (2) (1) (2) \\n1 Tea 17 Spices  and Vegetables  \\n2 Sugar  18 Red Chilli  \\n3 Milk  19 Drugs and Medicines  \\n4 Powdered  Milk  20 Kerosene  oil \\n5 Milk  and food for infants  21 Rice \\n6 Edible  oil, hydrogenated  or \\notherwise  22 Wheat,  Flour  all sorts  \\n7 Aerated  water,  fruits  juices  and \\nsquashes  23 Chemical fertilizers  all sorts  \\n8 Salt 24 Poultry  food \\n9 Potatoes  25 Surgical  gloves  \\n10 Onions  26 Face masks  \\n11 Pulses  all sorts  27 N95 masks  \\n12 Fish all sorts  28 Sanitizers  \\n13 Beef  29 Surface  cleaning  products  \\n14 Mutton  30 Pesticides  \\n15 Eggs  31 Match sticks  \\n16 Gur 32 Isopropyl Alcohol  \\n \",\n          \"   \\n \\n \\n \\n \\n \\n \\nTHE AL -KARAM INTERNATIONAL INSTITUTE ACT, 2021  \\n \\n \\n \\nCHAPTER -I \\nPRELIMINARY  \\n \\nCONTENTS  \\nSECTIONS : \\n1.    Short  title, application  and commencement.  \\n2.   Definitions  \\nCHAPTER -II \\nTHE  INSTITUTE  \\n \\n3.  Establishment  and incorporation  of the Institute.  \\n4.  Function s of the Institute.  \\n5.  Institute open to all classes, creeds, etc.  \\n6.  Teaching at the Institute.  \\nCHAPTER -III \\nOFFICERS  OF THE  INSTITUTE  \\n7.  Principal  officers.  \\n8.   Patron.  \\n9.  Visitation.   Updated till 11.04.2023\\n   \\n \\n 10. The Chancellor.  \\n11. Removal from the Senate.  \\n12. Vice -Chancell or.   \\n13. Appointment  and removal  of the Vice -Chancellor.  \\n14. Registrar.  \\n15.  Treasurer.  \\n16.  Controller of Examinations.  \\nCHAPTER -IV \\nAUTHORITIES  OF THE  INSTITUTE  \\n17.   Authorities.  \\n18.  Senate.  \\n19.  Powers  and functions  of the Senate.  \\n20.   Visitation.  \\n21. Syndicate.  \\n22.  Powers and duties of the Syndicate.  \\n23.  Academic Council.  \\n24.  Powers  and functions  of the Academic  Council.  \\n25.  Representation Committees.  \\n26.  Appointment of Committees by certain Authorities.  \\n \\nCHAPTER -V \\nSTATUTES,  REGULATIONS  AND  RULES  \\n27. Statutes.  \\n28. Regulations.  \\n29.   Amendment  and repeal  of Statutes  and Regulations.     \\n \\n 30.  Rules.  \\nCHAPTER -VI \\nTHE  INSTITUTE  FUND  \\n31.  The Institute fund.  \\n32.  Audits and accounts . \\nCHAPTER -VII \\nGENERAL  PROVISIONS  \\n33.  Opportunity to show cause.  \\n34.  Appeal  to the Syndicate  and the Senate.  \\n35.  Service  of the Institute.  \\n36.  Benefits  and insurance.  \\n37.  Commencement of term of office of members of Authority.  \\n38.  Filling of casual vacancies in Authorities.  \\n39.  Flaws in the constitution of  Authorities.  \\n40 Proceedings of Authorities not invalidated by the vacancies.  \\n41.  First statutes.  \\n43.  Indemnity.  \\n \\n \\n \\n \\n \\n \\n \\n \\n \\n    \\n \\n SCHEDULE  \\n[See section  40] \\nThe First  Statutes  \\n1.  Faculties.  \\n2.  Board of Faculties.  \\n3.  Deans.  \\n4. Teaching  Departments.  \\n5. Board of Studies.  \\n6. Board  of Advanced  Studies  and Research.  \\n7. Selection  Board.  \\n8. Function of the Selection Board.  \\n9. Finance and Planning Committee.  \\n10. Functions  of the Finance  and Planning  Committee.  \\n11. Academic  Planning  and Development  Committee.  \\n12. Function  of the Academic  Planning  and Development  Committee.  \\n \\n \\n \\n \\n \\n \\n \\n \\n \\n    \\n \\n  \\nTHE AL -KARAM INTERNATIONAL INSTITUTE ACT, 2021  \\n[1st December,  2021 ] \\n \\nACT  NO. XLVIII  OF 2021  AN \\nact to provide  for the establishment  of the  Al-Karam  International  Institute  \\n \\nWHEREAS  it is expedient  to provide  for the establishment  of the Al-Karam International \\ninstitute in the private sector for promotion of special  studies  and for matters ancillary  thereto;  \\n \\nIt is hereby  enacted  as follows:\\u2015  \\n \\nCHAPTER -I \\n   PRELIMINARY  \\n1. Short  title,  application  and commencement. \\u2014(1) This Act shall  be called the Al -\\nKaram  International  Institute Act,  2021.  \\n(2) It shall come  into force  at once.  \\n2. Definitions. \\u2014In this Act, unless  there  is anything  repugnant  in the subject  or context:  \\n(a) \\u201cAcademic  Council\\u201d  means  the Academic  Council  of the Institute;  \\n(b) \\u201cAnjuman\\u201d  means  the Anjuman  Taleem -ul-Muslimeen  (Regd.);  \\n(c) \\u201cAuthority\\u201d  means  an Authority  of the Institute  under  the Act; \\n(d) \\u201cChancellor\\u201d  means  the Chancellor  of the Institute; \\n(e) \\u201ccollege  or school\\u201d  means  constituent  college  or school  of the Institute;  \\n(f) \\u201cCommission\\u201d  means  the Higher  Education  Commission  of Pakistan  set up \\nunder  the Higher  Education  Commission  Ordinance,  2002  (LIII  of 2002);  \\n(g) \\u201cDean\\u201d  means  the Dean of  a Faculty  of the Institute;  \\n(h) \\u201cdepartment\\u201d means a teaching, research and training department  maintained  \\nand administered by  the Institute;  \\n(i) \\u201cDirector\\u201d  means  the Head  of a Teaching  Division  of the Institute;  \\n(j) \\u201cFaculty\\u201d  means  a Faculty  of the Institute;  \\n(k) \\u201cGovernment\\u201d  means  the Federal  Government;  \\n(l) \\u201cInstitute\\u201d  means  the Al-Karam  International  Institute;  \\n(m) \\u201cprescribed\\u201d  means  prescribed  by the statutes,  regulations  or rules;     \\n \\n (n) \\u201cPrincipal\\u201d means the Principal of a constituent college or school of   the \\nInstitute;  \\n(o) \\u201cProfessor  Emeritus\\u201d  means  retired  professor  working  in a faculty  in \\nan honorary  capacity;  \\n(p) \\u201cRepresentation  Committees\\u201d  means  the Representation  Committees  \\nconstituted under  the Act;  \\n \\n(q) \\u201cReview  Pannel\\u201d  means  the Review  Pannel  set up by the Chancellor  \\nunder  the Act;  \\n(r) \\u201cSenate\\u201d  mean s the senate  of the Institute;  \\n(s) \\u201cSchedule\\u201d  means  a schedule  appended  to the Act; \\n(t) \\u201cSearch Committee\\u201d means the Search Committee set up by the  Senate  under  \\nthis Act;  \\n(u) \\u201cstatutes, regulations and rules\\u201d means the statutes, regulations and  rules  \\nrespectively made  or deemed to have been made under the  Act; \\n(v) \\u201cSyndicate\\u201d  means  the Syndicate  of the Institute;  \\n(w) \\u201cTeacher\\u201d means a whole -time teacher appointed and paid by the  Institute; and  \\n(x) \\u201cVice -Chancellor\\u201d  means  the Vice -Chancellor  of the Institute.  \\nCHAPTER -II \\nTHE  INSTITU TE \\n3. Establishment  and incorporation  of the Institute. \\u2014(1) There  shall be established an \\nInstitute to be called Al -Karam International Institute  consisting of the Chancellor, the Vice -\\nChancellor, members of the Senate, the  Deans, the Chairmen, the Principals  and members of the \\nAcademic Council and  such other  officers as  may be  prescribed  or any council,  committee  and any \\nother  body  as the Authority  may establish.  \\n(2) The Institute shall be a body corporate with its main campus at  Bhera, having perpetual \\nsuccessio n and common seal, with power, among others,  to acquire, hold and dispose of any property \\nor investment vesting in it and shall  said name sue and  be sued.  \\n(3) The Institute shall be competent to acquire and hold property, both  movable and \\nimmovable, and to lea se, sell or otherwise transfer any movable and  immovable  property  which  may \\nhave  become  vested  in or been acquired  by it. \\n(4) Notwithstanding anything contained in any other law but subject to  this Act and the \\nHigher Education Commission Ordinance, 2002 (LIII of 2002),  the Institute  shall  have  academic,  \\nfinancial  and administrative  autonomy  including the power to employ officers, teachers and other \\nemployees on such  terms  as may  be prescribed.  \\n \\n4. Functions  of the Institute. \\u2014The Institute  shall  perform  the followi ng functions: \\u2014 \\n(i) to provide  for education  and scholarship  in such branches  of knowledge as it \\nmay deem fit with special focus on research in  Islamic  Shariah  and to make     \\n \\n provision  for research,  service  to society and for the application, advancement \\nand disse mination of  knowledge  in such manner  as it may determine;  \\n(ii)  to prescribe  courses  of studies  to be conducted  by it and the colleges;  \\n(iii)  to hold examinations and to award and confer degrees, diplomas,  certificates \\nand other academic distinctions to and on perso ns who  have  been  admitted  to \\nand have  passed  its examinations  under  prescribed  conditions;  \\n(iv)  to prescribe the terms and conditions of employment of the officers,  teachers \\nand other employees of the Institute and to lay down terms  and conditions  that \\nmay be different  from  those  applicable  to government servants in general;  \\n(v)  to engage,  where  necessary,  persons  on contracts  of specified  duration  and to \\nspecify  the terms of  each engagement;  \\n(vi) to confer  honorary  degrees  or other  distinctions  on approved  persons  in the \\nmanner prescribed;  \\n(vii) to provide for such instruction for persons not being students of the  Institute as \\nit may prescribe, and to grant certificates and diplomas  to such persons;  \\n(viii) to institute programmes for the exchange of students and teachers  between th e \\ninstitute and other universities, educational institutions  and research  \\norganizations,  inside  as well as  outside Pakistan;  \\n(ix) to provide career counseling and job search services to students and  alumni;  \\n(x)  to maintain  linkages  with alumni:  \\n(xi) to develop  and implement fund -raising  plans;  \\n(xii) to provide and support the academic development of the faculty of  the \\nInstitute;  \\n(xiii)  to confer  degrees  on persons  who have  carried  on independent  research  under  \\nprescribed  conditions;  \\n  \\n(xiv)  to accept the examinations passed and the peri od of study spent by  students of \\nthe Institute at other universities and places of learning  equivalent  to such \\nexaminations  and periods  of study  in the Institute,  as it may prescribe,  and to \\nwithdraw  such acceptance;  \\n(xv)  to co-operate  with the universities,  public  authorities  or private  organizations,  \\ninside  as well as outside  Pakistan;  in such manner  and for such purposes a  \\nmay be prescribe;  \\n(xvi)  to institute  Professorships,  Associate  Professorships,  Assistant  Professorships \\nand Lecturerships and any other posts and to appoint  persons  thereto;  \\n(xvii)   to create  posts  for research,  extension, administration and  other  related  \\npurposes and to  appoint  persons  thereto;  \\n(xviii)   to institute  and award  financial  assistance  to students  in need,  fellowships,  \\nscholarships,  bursaries,  meda ls and prizes  under  prescribed  conditions;     \\n \\n (xix)  to establish  departments,  schools,  colleges,  campuses,  faculties,  institutes,  \\nmuseums  and other  centers  of learning  for the development  of teaching  and \\nresearch  and to make  such arrangements  for their maintenance , management  \\nand administration, inside Pakistan as well as outside Pakistan under  \\nprescribed  conditions;  \\n(xx)  to provide for the residence of the students of the Institute and the  colleges, to \\ninstitute and maintain halls of residence and to approve  or licens e hostels and  \\nlodging;  \\n(xxi)  to maintain order, discipline and security on the campuses of the  Institute  and \\nthe colleges;  \\n(xxii)   to promote the extracurricular and recreational activities of such  students, and \\nto make arrangements for promoting their health and  gene ral welfare;  \\n(xxiii)   to demand  and receive  such fees and other  charges  as it may determine;  \\n(xxiv)   to make  provision for  research, advisory or  consultancy services  and with \\nthese  objects  to enter  into arrangements  with other  institutions  public  or \\nprivate  bodies,  comme rcial and industrial  enterprises  under  prescribed \\nconditions;  \\n(xxv)   to enter  into, carry  out, vary or cancel contracts;  \\n \\n(xxvi)   to receive  and manage  property  transferred  and giants,  contributions  made  to \\nthe Institute  and to invest  any fund representing such propert y, grants, \\nbequests, trusts, gifts, donations,  endowments  or contributions in  such manner  \\nas it may deem  fit; \\n(xxvii)    to provide for the printing and publication of research and other  works;  and \\n(xxviii)    to do such other acts and things as may be requisite in order to  further the \\nobjectives of the Institute as a place of promotion of  special  studies, \\neducations,  learning  and research.  \\n5. Institute open to all classes, creeds, etc. \\u2014(1) Except where the  Institute has been \\ndeclared by notification in the official Gazette to b e open only  to persons of a specified gender, the \\nInstitute shall be open to all persons of either  gender and of whatever religion, race, creed, class, color \\nor domicile and no  person shall be denied the privileges of the Institute on the grounds of religi on, \\nrace,  caste,  creed,  class,  colour or domicile.  \\n(2) An increase in any fee or charge that is in excess of ten percent per  annum on an \\nannualized basis from the last  such increase may not be made  except in special  circumstances  and \\nwith the approval  of the C hancellor.  \\n(3) The Institute  shall  establish  financial  aid programmes  for students  in need, to the extent \\nconsidered feasible by the Senate given the resources  available, so as to enable admission and access \\nto the Institute and the various  opportunities  provi ded by it to be  based on merit rather  than ability  to \\npay. \\n(4) The Institute  may offer  self-finance  schemes  not covering more  than ten percent of the \\ntotal number of students in any on -campus taught course  or research -based programme of  study.     \\n \\n 6. Teaching at the Institute. \\u2014(1) All recognized teaching in various  courses shall be \\nconducted by the Institute or a college in the prescribed manner  and may include  lectures,  tutorials,  \\ndiscussions,  seminars,  demonstrations,  distance learning and other methods of instructi on as well as \\npractical work in the  laboratories,  hospitals,  workshops  and other  governmental  or private  \\norganizations.  \\n(2)    The authority responsible for organizing recognized teaching shall  be such as may  be \\nprescribed.  \\nCHAPTER -III \\nOFFICERS  OF THE  INST ITUTE  \\n7. Principal  officers.\\u2014The following  shall  be the principal  officers  of the Institute  \\nnamely: \\u2014 \\n(a) the Patron;  \\n(b) the Chancellor;  \\n(c) the Vice -Chancellor;  \\n(d) the Deans;  \\n(e) the Principals  of the colleges;  \\n(f) the Chairpersons  of the departments;  \\n(g) the Registrar;  \\n(h) the Treasurer;  \\n(i) the Controller  of Examinations;  and \\n(j) such other  persons  as may be prescribed  by the statutes  or regulations  \\nto be the principal officers of  the Institute.  \\n8. Patron.\\u2014(1) The President of the Islamic Republic of Pakistan  shall be  the Patron of  the \\nInstitute.  \\n(2) The Patron shall, when present, preside at the convocation of the  Institute and, in his \\nabsence, the Senate may request a person of eminence or the  Chancellor  to preside over  the \\nconvocation.  \\n(3) Any proposal  to confer  an honorary  degree  shall  be subject  to confirmation  of the Patron.  \\n9. Visitation. \\u2014(1) The Patron may in accordance with the terms and  procedures as may be \\nprescribed, cause an inspection to be made on his own  motion or at the request of the Commission in \\nrespect of any matter connected  with the affai rs of the Institute and shall from time to time, direct \\nany person or  persons  to inquire  into or  carry  out inspection of:  \\n(a) the Institute,  its building;  laboratories  and other  facilities;  \\n(b) any college,  school,  department,  or hostel  maintained  by the Institute ; \\n(c) the adequacy  of financial  and human resources;     \\n \\n (d) the teaching  research,  curriculum,  examination  and other  matters  of the            \\nInstitute;  and \\n(e) such other  matters  as the Patron  may specify.  \\n \\n(2) The Patron  shall  communicate  to the Senate  his views  with regard to the result of \\nvisitation and shall, after ascertaining the views of the Senate,  advise  the Chancellor on  the action  to \\nbe taken by  it. \\n(3) The Chancellor shall, within such time as may be specified by the  Patron, communicate \\nto him such action, if any, a s has been taken or may be  proposed  to be  taken upon the result  of \\nvisitation.  \\n(4) Where the Senate does not, within the time specified, take action to  the satisfaction  of the \\nPatron,  the Patron  may issue  such directions  as he deems  fit and Senate shall  comply  with all  such \\ndirections.  \\n10. The Chancellor. \\u2014(1) The Chairman of the Anjuman shall be the  Chancellor  of the \\nInstitute.  \\n(2) The Chancellor shall, when present, preside at the meetings of the  Senate  and, in the \\nabsence  of the Patron,  the Senate  may request  the Chancellor  to preside over  the convocation  of the \\nInstitute.  \\n(3) The members of the Senate as well as the Vice -Chancellor shall be  appointed by the \\nChancellor from amongst the persons recommended by the  Representation  Committee  set up for this \\npurpose  or the Search Committee  established  in accordance  with the Act and  the statutes  along  with \\nthose  elected.  \\n(4) If the Chancellor  is satisfied  that serious  irregularity  or mismanagement with respect to \\nthe affairs of the Institute or an Authority has  occurred,  he may\\u2015  \\n(a) as regards  proceedings  of the Senate,  direct  that specified  proceedings  be \\nreconsidered  and appropriate  action  taken  within  one month of  the direction  \\nhaving  been issued;  and \\n(b) direct  the Senate  to exercise  powers under section  19. \\n(5) If the Chancellor is satisfied that either no re -consideration has been  carried out or that \\nthe re -consideration has failed to address his concern under  sub-section (4), he may, after calling \\nupon the Senate to show cause in writing,  appoint a five member Review Panel to ex amine and \\nreport to the Chancellor on  the functioning  of the Senate.  \\n(6) The report of the Review Panel shall be submitted within such time  as may be \\nprescribed by  the Chancellor.  \\n(7) The Review Panel shall be drawn from persons of eminence in  academics  and in the  \\nfields  of law,  accountancy  and administration.  \\n11. Removal from the Senate. \\u2014(1) The Chancellor may, upon the  recommendation of the \\nReview Panel, remove any person from the membership  of the Senate  on the ground  that such person  \\nhas: \\n(a) become  of unsound mind;  or    \\n \\n (b) become  incapacitated  to function  as member  of the Senate;  or \\n(c) been convicted by a court of law for an offence involving moral                             \\nturpitude; or has absented himself from two consecutive meetings  without  just \\ncause;  or \\n(d) been guilty of misconduct, including use of position for personal  advantage of \\nany kind, or gross inefficiency in the performance of  functions.  \\n(2) The Chancellor shall remove any person from the membership of  the Senate on a \\nresolution calling for the removal of such person  supported by at  least three -fourths  of the \\nmembership of the Senate.  \\n(3) The provisions of this section shall not be applicable to the Vice - Chancellor in his \\ncapacity as a member of the Senate and before passing of the  resolution under sub -section (2), the \\nSenate shall provide the member concerned  an opportunity  of hearing.  \\n12. Vice -Chancellor. \\u2014(1) There  shall  be a Vice -Chancellor  of the Institute who shall be an \\neminent academician or a distinguished administrator  and shall  be appointed on  such terms and  \\nconditi ons as  may be prescribed.  \\n(2) The Vice -Chancellor  shall  be the chief  executive  officer  of the Institute responsible for \\nall administrative and academic functions of the Institute  and for ensuring that the provisions of the \\nAct, statutes, regulations and rules are faithfully observed in order to promote the general efficiency \\nand good order of  the Institute.  \\n(3) The Vice -Chancellor may exercise administrative control over the  officers,  teachers and \\nother  employees  of the Institute.  \\n(4) The Vice -Chancellor  shall,  if present, be entitled  to attend  any meeting  of any  Authority  \\nor body  of the Institute.  \\n(5) The Vice -Chancellor  may,  in an emergency that  in his  opinion  requires  immediate  \\naction  ordinarily  not in the competence  of the Vice - Chancellor, take such action and forward,  within \\nseventy -two hours, a report of  the action  taken  to the members  of the Emergency  Committee  of the \\nSenate,  to be set up under  the statutes.  \\n \\n(6) The Emergency Committee may direct such further  action as it  considers  appropriate.  \\n(7) The Vice -Chancellor  may exercise  the following  powers:  \\n(a) to direct teachers, officers and other employees of the Institute to  take up such \\nassignments  in connection  with examination,  administration and such other \\nactivities in the Institute as he may  consider  necessary  for the purpo ses of the \\nInstitute;  \\n(b) to sanction by re -appropriation an amount not exceeding an amount  prescribed \\nby the Senate for an unforeseen item not provided for in  the budget  and report  it \\nto the Senate  at the next  meeting;  \\n(c) to make  appointments  of such categories  of employees  of the Institute  and in \\nsuch manner  as may  be prescribed  by the statutes;  \\n(d) to suspend,  punish  and remove,  in accordance  with prescribed  procedure, from    \\n \\n service officers, teachers and other employees of  the Institute except those \\nappointed by or  with the approval of the  Senate;  \\n(e) to delegate, subject to such conditions as may be prescribed, any of  his powers \\nunder this Act to an officer or officers of the Institute;  and \\n(f) to exercise and perform such other powers and functions as may be  prescribed.  \\n(8) The Vice -Chancellor  shall  present  an annual  report  before  the Senate within three \\nmonths of the close of the academic year and the annual  report shall contain such information as \\nregards the academic year under review  as may be prescribed  including  disclosu re of all  relevant \\nfacts  pertaining  to: \\n(a) academics;  \\n(b) research;  \\n(c) administration;  and \\n(d) Finances.  \\n(9) The Vice -Chancellor\\u2019s annual report shall be made available, prior  to its presentation \\nbefore the Senate, to all officers and teachers and shall be  published  in such numbers  as are required  \\nto ensure  its wide circulation.  \\n13. Appointment  and removal  of the Vice -Chancellor. \\u2014(1) The Vice -Chancellor shall \\nbe appointed by the Chancellor on the recommendations of  the Senate.  \\n(2) A Search  Committee  for the recommendation  of persons  suitable  for appointment as \\nVice -Chancellor shall be constituted by the Senate on the date  and in the manner prescribed by the \\nstatutes and shall consist of two eminent  members  of the Society  nominated  by the Chancellor,  two \\nmembers  of the Senate, two dis tinguished Teachers who are not members of the Senate and one  \\nacademic  of eminence not  employed by  the Institute.  \\n(3) The Senate  shall  select  two distinguished  Teachers  through  a process, to be prescribed \\nby statutes that provides for the recommendation of  suitable names by  the Teachers  in general.  \\n(4) The Search Committee shall remain in existence till such time that  the appointment of  \\nthe next  Vice -Chancellor  has been  made  by the Chancellor.  \\n(5) The persons proposed by the Search Committee for appointment as  Vice -Chancellor \\nshall be considered by the Senate and of these, the Senate shall  recommend  a panel  of three  in order  \\nof priority  to the Chancellor.  \\n(6) The Chancellor may decline to appoint any of the three persons  recommended and seek \\nrecommendation of a fresh panel and, in the event of a  fresh recommendation being sought by the \\nChancellor, the Search Committee  shall make a proposal  to the Senate  in the prescribed  manner.  \\n(7) The Vice -Chancellor shall be appointed for a renewable tenure of  five years on terms  \\nand conditio ns prescribed under  the statutes.  \\n(8) The tenure  of an incumbent  Vice -Chancellor  may be renewed  by the Chancellor on \\nreceipt of a resolution of the Senate in support of such renewal  or the Chancellor may  call upon  the \\nSenate  to reconsider such resolution.  \\n(9) The Senate may, pursuant to a resolution in this behalf passed by  three -fourths of its    \\n \\n membership, recommend to the Chancellor the removal of the  Vice -Chancellor on the ground of in -\\nefficiency, moral turpitude or physical or  mental incapacity or gross miscondu ct, including misuse of \\nposition for personal  advantage of  any kind.  \\n(10) The Chancellor may make a reference to the Senate stating the  instances of in -\\nefficiency, moral turpitude or physical or mental incapacity or  gross misconduct on the part of the \\nVice -Chan cellor that have come to his notice  and after consideration  of the reference,  the Senate  \\nmay pursuant  to a resolution  in this behalf  passed  by two-thirds  of its membership  recommend  to the \\nChancellor  the removal  of the Vice -Chancellor.  \\n(11) Prior to a resolutio n for the removal of the Vice -Chancellor is voted  upon,  the Senate  \\nshall  provide  the Vice -Chancellor  an opportunity  of being  heard.  \\n \\n(12) A resolution recommending the removal of the Vice -Chancellor  shall be submitted to \\nthe Chancellor forthwith and the Chancel lor may accept the  recommendation  and order  removal  of \\nthe Vice -Chancellor  or return  the recommendation  to the Senate.  \\n(13) At any time when the office of the Vice -Chancellor is vacant or the  Vice -Chancellor  is \\nabsent  or is unable  to perform  the functions  of his office  due to illness or some other cause, the \\nSenate shall make such arrangements for the  performance  of the duties  of the Vice -Chancellor  as it \\nmay deem  fit. \\n14. Registrar. \\u2014(1) There shall be a Registrar of the Institute to be  appointed by the Senate \\non th e recommendation of the Vice -Chancellor on such  terms  and conditions  as may  be prescribed.  \\n(2) The experience  as well as the professional  and academic  qualifications necessary for \\nappointment to the post of the Registrar shall be such  as may be prescribed.  \\n(3) The Registrar  shall  be a full-time officer  of the Institute  and shall:  \\n(a) be the administrative head of the secretariat of the Institute and \\nberesponsible  for the provision  of secretariat  support  to the Authorities;  \\n(b) be the custodian of the common seal and the ac ademic records of  the \\nInstitute;  \\n(c) maintain  a register  of registered  graduates  in the prescribed  manner;  \\n(d) supervise the process of election, appointment or nomination of  \\nmembers  to the various  authorities  and other  bodies  in the prescribed  \\nmanner;  and \\n(e) perform  such other duties  as may be prescribed.  \\n(4) The term of office of the Registrar shall be a renewable period of  three years and the \\nSenate may, on the advice of the Vice -Chancellor, terminate  the appointment of the Registrar on \\ngrounds of in -efficiency or misc onduct in  accordance  with the prescribed procedure.  \\n15. Treasurer. \\u2014(1) There shall be a Treasurer of the Institute to be  appointed by the Senate \\non the recommendation of the Vice -Chancellor on such  terms  and conditions  as may  be prescribed.  \\n(2) The experience and the professional and academic qualifications  necessary for \\nappointment to the post of the Treasurer shall be such as may be  prescribed  \\n(3) The Treasurer  shall  be the chief  financial  officer  of the Institute  and    \\n \\n (a) manage  the assets,  liabilities,  receipts,  expendi tures,  funds  and investments  of \\nthe Institute;  \\n(b) prepare the annual and revised budget estimates of the Institute and  present \\nthem to the Syndicate or a committee thereof for approval  and incorporation in \\nthe budget  to be  presented  to the Senate;  \\n(c) ensure that  the funds of the Institute are expended on the purposes  for \\nwhich  they are provided;  \\n(d) have  the accounts  of the Institute  audited  annually  so as to be available for \\nsubmission to the Senate  within six months of the  close  of the financial  year;  \\nand \\n(e) perform  such other duties  as may be prescribed.  \\n(4) The term of office  of the Treasurer  shall  be a renewable  period  of three years and the \\nSenate may, on the advice of the Vice -Chancellor, terminate  the appointment of the Treasurer on \\ngrounds of in -efficiency or miscon duct in  accordance  with the prescribed procedure.  \\n16. Controller of Examinations. \\u2014(1) There shall be a Controller of  Examinations, to be \\nappointed by the Senate on the recommendation of the Vice - Chancellor  on such terms and \\nconditions  as may  be prescribed.  \\n(2) The minimum qualifications necessary for appointment to the post  of the Controller of \\nExaminations  shall be  such as  may be prescribed.  \\n(3) The Controller of Examinations shall be a full -time officer of the  Institute and shall be \\nresponsible for all matters conne cted with the conduct of  examination  and perform  such other  duties  \\nas may  be prescribed.  \\n(4) The Controller of Examinations shall be appointed for a renewable  term of three years \\nand the Senate may, on the advice of the Vice -Chancellor,  terminate  the appointme nt of the \\nController  of Examinations  on grounds  of in-efficiency  or misconduct  in accordance  with the  \\nprescribed  procedure.  \\nCHAPTER -IV \\nAUTHORITIES  OF THE  INSTITUTE  \\n17. Authorities. \\u2014(1) The  following shall  be the Authorities  of the Institute:  \\n(a) Authorities  establ ished  by the Act:\\u2014 \\n \\n(i) the Senate;  \\n(ii) the Syndicate;  and \\n(iii) the Academic  Council;  \\n(b) Authorities  to be established by  the statutes: \\u2014 \\n(i) Graduate  and Research  Management Council;  \\n(ii)  Recruitment,  Development,  Evaluation  and Promotion  committees for    \\n \\n Teachers  and other staff w hether at the  level  of the department, the  \\nFaculty  or the Institute;  \\n(iii)  Career  Placement  and Internship  Committee  of each Faculty;  \\n(iv)     Search  Committee  for the appointment  of the Vice - Chancellor;  \\n(v)     Representation  Committees  for appointment  to the Senate,  Syndicate  and  \\nthe Academic Council;  \\n(vi)     Faculty  Council;  and \\n(vii)   Departmental  Council.  \\n(2)   The Senate, the Syndicate and the Academic Council may set up  such other committees \\nor sub -committees, by whatever name described as are  considered  desirable  throug h statutes  or \\nregulations  as appropriate  and such committees  or sub-committees  shall  be Authorities  of the \\nInstitute  for the purposes  of this  Act. \\n18. Senate.\\u2014(1) The body  responsible  for the governance  of the institute  shall be  described  \\nas the Senate,  and shall consist of  the following: \\u2014 \\n(a) The Chairman of Anjuman who shall be the Chairperson of the  Senate;  \\n(b) the Vice Chancellor;  \\n(c) one member of the Government not below the rank of Additional  \\nSecretary  nominated by  the Ministry  of Federal  Education;  \\n(d) four persons  from society  at large  being  persons  of distinction  in the \\nfields  of administration,  management,  education,  academics,  law, \\naccountancy,  medicine,  fine arts, architecture,  agriculture,  science, \\ntechnology and engineering such that the appointment of  these  persons \\nreflects  a balance across  various  fields;  \\n \\n(e) one person  from  amongst the  alumni of  the Institute;  \\n(f) two persons  from  the academic  community  other  than an employee  of \\nthe Institute,  of the level  of professor or  principal  of a college;  \\n(g) four teachers;  and \\n(h) one person  nominated  by the Commission.  \\n(2) The numbers  of the members  of the Senate  described  against  clauses (e) to (h) of sub -\\nsection (I) may be increased by the Senate through  statutes subject to condition that the total \\nmembership of the Senate does not  exceed twenty  one, with a maximum  of five Institute  Teachers,  \\nand the increase  is balanced, to the extent possible, across the different categories specified in  sub-\\nsection  (I). \\n(3) All appointments to the Senate shall be made by the Chancellor and  appointments of  \\npersons described in clauses (e) to (f) of sub -section (I) shall be  made  from  amongst  a panel  of \\nthree  names  for each vacancy  recommended  by the Representation  Committee  and in accordance  \\nwith procedure  as may be prescribed and an effort shall be made, wi thout compromising on quality or  \\nqualification,  to give  fair representation  to women  on the  Senate.     \\n \\n (4) As regards the Teachers described in clause (g) of sub -section (I),  the Senate shall \\nprescribe a procedure for appointment on the basis of elections  that pr ovide for voting by the various \\ncategories of the Teachers and the Senate  may alternatively prescribe that appointment of Teachers \\nto the Senate shall also  he in the manner provided for the persons described in clauses (e) to (f) of  \\nsub-section  (I). \\n(5) Member s of the Senate, other than ex-officio members, shall hold  office  for three  years  \\nand one-third  of the members,  other  than ex-officio  members,  of the first restructured  Senate,  to be \\ndetermined  by lot, shall  retire  from office on the expiration of one year  from the date of \\nappointment by the  Chancellor; one -half of the remaining members, other than  ex-officio members,  \\nof the first restructured Senate, to be determined by lot, shall retire from office on  the expiration of \\ntwo years from the date of appointme nt and the remaining one - half, other  than ex-officio  members  \\nshall  retire  from  office  on the expiration  of the third  year.  \\n(6) A person, other than an ex-officio member, shall not serve on the  Senate  for more than \\ntwo consecutive  terms.  \\n(7) The Senate  shall meet  at least twice  in a calendar year.  \\n(8) Service  on the Senate  shall  be on honorary  basis  but actual  expenses  may be reimbursed \\nto the members as  may be prescribed.  \\n(9) The Registrar shall  be the secretary  of the Senate.  \\n(10) In the absence of the Chancellor meetings of the Senate shall be  presided over by such \\nmember, not being an employee of the Institute or the  Government,  as the Chancellor  may,  from  \\ntime to time,  nominate  and the member so nominated  shall  be the convener of  the Senate.  \\n(11) Unless otherwise prescribed by t his Act, all decisions of the Senate  shall be taken on \\nthe basis of the opinion of a majority of the members present  and in the event of the members being \\nevenly divided on any matter, the person  presiding  over the meeting  shall  have a  casting  vote.  \\n(12) The qu orum for a meeting of the Senate shall be two thirds of its  membership, a  \\nfraction  being  counted  as one.  \\n19. Powers  and functions  of the Senate.\\u2014(1) The Senate  may exercise general supervision \\nover the Institute and shall hold the Vice -Chancellor  and the Autho rities  accountable  for all  the \\nfunctions of  the Institute.  \\n(2) The Senate may perform any function of the Institute which is not  expressly vested in an \\nAuthority or officer by the Act and may exercise the  powers  not expressly  mentioned  by this Act \\nthat are necessary  for the performance  of its  functions.  \\n(3) Without  prejudice to  the generality of  the foregoing,  the Senate  shall perform  the \\nfollowing  functions: \\u2014 \\n(a) to approve  the proposed  annual  plan of work,  the annual  and revised  budgets,  \\nthe annual  report  and the annual statement  of account;  \\n(b) to hold, control and lay down policy for the administration of the  property,  \\nfunds  and investments  of the Institute,  including  the approval  of the sale and \\npurchase  or acquisition  of immovable  property;  \\n(c) to oversee the quality and relevance of the Institute\\u2019s academic  programmes and    \\n \\n to review the academic affairs of the Institute in  general;  \\n(d) to approve  the appointment  of the Deans,  Professors,  Associate  Professors and \\nsuch other senior faculty and senior administrators,  as may be pr escribed;  \\n(e) to institute schemes, directions and guidelines for the terms and  condition  of \\nappointment  of all officers,  teachers  and other  employees  of the Institute;  \\n \\n(f) to approve  strategic  plans;  \\n(g) to approve  financial  resource  development  plans  of the Institu te; \\n(h) to consider the drafts of statutes  and regulations proposed by the  Syndicate  and \\nthe Academic Council;  \\n(i) to frame statutes or regulations on its own initiative and approve it  after calling  \\nfor the advice  of the Syndicate  or the Academic  Council;  \\n(j) to annul  by order in writing the proceedings of any Authority or  officer if the \\nSenate is satisfied that such proceedings are not in  accordance with the \\nprovisions of the Act, statutes or regulations  after calling upon such Authority \\nor officer to show cause why s uch proceedings  should not  be annulled;  \\n(k) to recommend to the Chancellor removal of any member of the  Senate  in \\naccordance with  the provisions of  the Act;  \\n(l) to make  appointment  of members  of the Syndicate,  other  than ex-officio  \\nmembers,  in accordance  with the provisions  of the Act; \\n(m) to make appointment of members of the Academic Council, other  than ex-officio \\nmembers, in accordance with the provisions of the  Act; \\n(n) to appoint  Emeritus  Professors  on such terms  and conditions  as may be \\nprescribed;  \\n(o) to remove  any person from  the membership  of any Authority  if such person:  \\n(i) has become  of unsound  mind; or  \\n(ii) has become  incapacitated  to function  as member  of such Authority; or  \\n(iii) has been  convicted  by a court  of law for an offence  involving  moral turpitude;  \\nand \\n(p) to determine the form, provide for the custody and regulate the use  of the \\ncommon seal  of the Institute.  \\n(4) The Senate may, subject to the provisions of the Act delegate all or  any of the powers and \\nfunctions of any Authority, officer or employee of the  Institute at its main campus, to any Authority, \\ncommittee, officer or employee at  its additional  campus  for the purpose  of exercising  such powers  \\nand performing  such functions  in relation  to such additional  campus,  and for this purpose  the \\nSenate  may create  new posts or positio ns at the additional  campus.  \\n20. Visitation. \\u2014The Senate may, in accordance with the terms and  procedures  as may be \\nprescribed,  cause  an inspection  to be made  in respect  of any matter connected with  the Institute.     \\n \\n 21. Syndicate. \\u2014(1) There  shall  be a Syndicate  of the Institute  consisting  of the \\nfollowing:  \\n(a) the Vice -Chancellor  who shall  be its Chairperson;  \\n(b) the Deans  of the Faculties  of the Institute;  \\n(c) three professors from different departments, who are not members  of the Senate, \\nto be elected by the Institute Teachers in accordance  with procedure to  be \\nprescribed by  the Senate;  \\n(d) Principals  of the constituent  colleges;  \\n(e) the Registrar:  \\n(f) the Treasurer;  and \\n(g) the Controller  of Examinations.  \\n(2) Members  of the Syndicate,  other than  ex-officio members,  shall  hold office  for a  term of \\nthree years.  \\n(3) As regards  the three  professors  described  in clause  (c) of sub-section  (1), the Senate  may \\nas an alternative  to elections,  prescribe  a procedure for proposal of a panel of names by the \\nRepresentation Committee and  appointment of persons propos ed by the Representation Committee \\nmay be made  by the Senate on the  recommendation of the  Vice -Chancellor.  \\n(4) The quorum for a meeting of the Syndicate shall be one -half of the  total number  of \\nmembers, a  fraction being  counted  as one.  \\n(5)  The Syndicate  shall mee t at least once  in each quarter  of the year.  \\n22. Powers and duties of the Syndicate .\\u2014(1) The Syndicate shall be  the executive body \\nof the Institute and shall, subject to the provisions of the Act  and the statutes, exercise general \\nsupervision over the affairs and management of  the institute.  \\n(2)  Without prejudice to the generality of the foregoing powers, and  subject to the \\nprovisions of the Act, the statutes and directions of the Senate, the  Syndicate  shall  perform  the \\nfollowing  functions:  \\n \\n(a) to consider  the annual report,  the annual  and revised  budget  estimates  and to  \\nsubmit  these to  the Senate;  \\n(b) to transfer and accept transfer of movable property on behalf of the  Institute;  \\n(c) to enter into, vary, can out and cancel contracts on behalf of the  Institute;  \\n(d) to cause p roper books of account to be kept for all sums of money  received  and \\nexpended  by the Institute  and for the assets  and liabilities  of the Institute;  \\n(e) to invest  any money  belonging  to the Institute  including  any unapplied income \\nin any of the securities descr ibed in section 20 of  the Trusts  Act, 1882  (Act II of \\n1882),  or in the purchase  of immovable property or in such other manner, as it \\nmay prescribe,  with the like power of  varying  such investments;     \\n \\n (f) to receive  and manage  any property  transferred  and giants,  bequests,  trust,  \\ngifts,  donations,  endowments,  and other  contributions  made to the Institute;  \\n(g) to administer any funds placed at the disposal of the Institute for  specified  \\npurposes;  \\n(h) to provide the buildings, libraries, premises, furniture, apparatus,  equip ment and  \\nother  means  required for  carrying out the work of  the Institute;  \\n(i) to establish and maintain halls of residence and hostels or approve  or license  \\nhostels or  lodgings  for the  residence of  students;  \\n(j) to recommend to the Senate admission of educational institutions to  the \\nprivileges  of the Institute  and withdraw  such privileges;  \\n(k) to arrange  for the inspection  of colleges,  schools  and the departments;  \\n(l) to institute  Professorships,  Associate  Professorships,  Assistant  Professorships,  \\nLecturerships,  and other  teaching  posts  or to suspend or  to abolish  such posts;  \\n(m) to create, suspend or abolish such administrative or other posts as  may be \\nnecessary;  \\n(n) to prescribe the duties of officers, Teachers and other employees of  the Institute;  \\n \\n(o) to report to the Senate on mat ters with respect to which it has been  asked  to \\nreport;  \\n(p) to appoint members to various Authorities in accordance with the  provisions  of \\nthe Act;  \\n(q) to propose  drafts  of statutes  for submission  to the Senate;  \\n(r) to regulate  the conduct  and discipline  of the studen ts of the Institute;  \\n(s) to take actions necessary for the good administration of the Institute  in general \\nand to  this end exercise  such powers  as are necessary;  \\n(t) to delegate  any of its powers  to any Authority  or officer  or a committee; \\nand \\n(u) to perform such othe r functions as have been assigned to it by the  provisions  of \\nthe Act or may be assigned  to it under  the statutes.  \\n23. Academic Council .\\u2014(1) There shall be an Academic Council of  the Institute \\nconsisting  of the following:  \\n(a) the Vice -Chancellor  who shall  be its Chairperson;  \\n(b) the Deans of Faculties and such heads of departments as may be  \\nprescribed;  \\n(c) five members  representing  the departments,  institutes  and the \\nconstituent colleges to be elected in the manner prescribed by the  \\nSenate;     \\n \\n (d) two Principals  of constituent  colleges;  \\n(e) five Professors  including  Emeritus  Professors;  \\n(f) the Registrar;  \\n(g) the Controller  of Examinations;  and \\n(h) the Librarian.  \\n(2) The Senate shall appoint the members of the Academic Council,  other than the \\nex-officio and the elected members, on the recommendation o f the Vice -Chancellor.  \\n(3) As regards the five professors and the members representing the  departments, \\ninstitutes and the colleges, the Senate may, as an alternative to  elections,  prescribe  a procedure  for \\nproposal  of a panel  of names  by the representation  Committee  and appointment  of persons  \\nproposed  by the Representation Committee may be made by the Senate on the recommendation of  the \\nVice -Chancellor.  \\n(4) Members  of the Academic  Council shall  hold office  for three  years.  \\n(5) The Academic  Council  shall meet  at least once  in each quarter.  \\n(6) The quorum  for meetings  of the Academic  Council  shall  be one half of the total \\nnumber  of members, a fraction  being  counted  as one.  \\n24. Powers  and functions  of the Academic  Council.\\u2014(1) The Academic Council shall \\nbe the principal academic body of the Institute and shall,  subject to the provisions of the Act and the \\nStatutes, have the power to lay down  proper standards of instruction, research and examinations and \\nto regulate and  promote  the academic  life of  the Institute  and the colleges.  \\n(2)   Without prejudice to the generality of the foregoing and subject to  the provisions  of this \\nAct and the statutes,  the Academic  Council  may perform  the following  functions: \\u2014 \\n(a) to approve the policies and procedures pertaining to the quality of  academic  \\nprogrammes;  \\n(b) to approve  academic  programmes;  \\n(c) to approve the policies and procedures pertaining to student related  functions  \\nincluding  admissions,  expulsions,  punishments,  examinations  and certification;  \\n(d) to approve the policies and procedures assuring quality of teaching  and \\nresearch;  \\n(e) to propose  to the Syndicate  schemes  for the constitution  and organization  of \\nFaculties,  departments  and board  of studies;  \\n(f) to appoint paper setters and examiners for all examinations of the  Institute  after \\nreceiving  panels  of names  from  the relevant  authorities;  \\n(g) to institute programmes for the continued professional development  of Institute  \\nTeachers at  all levels;  \\n(h) to recognize the examinations of other institutes and universities or  examining    \\n \\n bodies as equivalent to the correspondin g examinations  of the Institute;  \\n \\n(i) to regulate  the award  of studentships,  scholarships,  exhibitions,  medals  and \\nprizes;  \\n(j) to frame  regulations  for submission  to the Senate;  \\n(k) to prepare an annual report on the academic performance of the  Institute; and  \\n(I) to perfo rm such other  functions  as may be prescribed  by regulations.  \\n25. Representation Committees. \\u2014(1) There shall be a Representation  Committee \\nconstituted by the Senate through the statutes for recommendation of  persons  for appointment  to the \\nSenate.  \\n(2) There shall al so be a Representation Committee constituted by the  Senate through the \\nstatutes for the recommendation of persons for appointment to  the Syndicate and  the Academic \\nCouncil.  \\n(3) Members of the Representation Committee for appointments to the  Senate  shall  \\nconsis t of the following: \\u2014 \\n(a) three  members  of the  Senate  who are not Teachers;  \\n(b) two persons  nominated  by the Teachers  from  amongst  themselves  in manner \\nprescribed;  \\n(c) one person from the academic community, not employed by the  Institute, at the \\nlevel of professor or P rincipal to be nominated by  the Teachers  in the manner  \\nprescribed;  and \\n(d) one eminent  citizen  with experience  in administration,  philanthropy,  \\ndevelopment  work,  law or accountancy  to be nominated by  the Senate.  \\n(4) The Representation Committee for appointments to  the Syndicate  and the Academic \\nCouncil shall consist  of the following: \\u2014 \\n(a) two members of  the Senate  who are not Teachers; and  \\n(b) three persons nominated by the Teachers from amongst themselves  in the \\nmanner prescribed.  \\n(5) The tenure of the Representation Committe es shall be three years  and no member \\nshall  serve for  more than  two consecutive terms.  \\n(6) The procedures of the Representation Committees shall be such as  may be prescribed.  \\n \\n \\n(7) There may also be such other Representation Committees set up by  any of the other \\nAuthorities of the Institute as are considered appropriate for  recommending  persons  for appointment  \\nto the various  Authorities  and other  bodies  of the Institute.  \\n26. Appointment of Committees by certain Authorities. \\u2014(1) The  Senate, the \\nSyndicate, the Academic C ouncil and other Authorities may, from  time to time, appoint such    \\n \\n standing, special or advisory committees, as they may  deem fit, and may place on such committee \\npersons who are not members of the  Authority  appointing  the committee.  \\n(2) The constitution, f unctions and powers of the Authorities for which  no specific  provision  \\nhas been  made  in this Act shall  be such as may be prescribed  by the statutes or regulations.  \\nCHAPTER -V \\nSTATUTES,  REGULATIONS  AND  RULES  \\n27. Statutes.\\u2014(1) Subject to the provisions of the Act , statutes, to be  published in the official \\nGazette, may be made to regulate any of the following  matters: \\u2014 \\n(a) the contents of and the manner in which the annual report to be  presented  by the \\nVice -Chancellor  before  the Senate  shall  be prepared;  \\n(b) the Institute  fees and other  charges;  \\n(c) the constitution of any pension, insurance, gratuity, provident fund  and \\nbenevolent  fund for  Institute employees;  \\n(d) the scales  of pay and other  terms  and conditions  of service  of officers,  teachers \\nand other  Institute  employees;  \\n(e) the maintenance  of the register  of registered  graduates;  \\n(f) admission  of educational  institutions  to the privileges  of the Institute  and the \\nwithdrawal of  such privileges;  \\n(g) the establishment of Faculties, departments, institutes, colleges and  other,  \\nacademic divisi ons; \\n(h) the powers  and duties  of officers  and teachers;  \\n(i) conditions under which the Institute may enter into arrangement  with other  \\ninstitutions  or with public  bodies  for purposes  of research  and advisory  \\nservices;  \\n \\n(j) conditions for appointment of Emeritus Profe ssors and award of  honorary  \\ndegrees;  \\n(k) efficiency  and discipline  of Institute  employees;  \\n(l) the constitution and procedure to be followed by Representation  Committees  in \\ncarrying  out functions  in terms  of this Act; \\n(m) the constitution  and procedure  to be followed  by the Search  Committee  for \\nappointment  of the  Vice -Chancellor;  \\n(n) constitution,  functions  and powers  of the Authorities  of the Institute; and  \\n(o) all other matters which by this Act are to be or may be prescribed or  regulated  \\nby the statutes.  \\n(2) The draft of statut es shall be proposed by the Syndicate to the  Senate which may approve \\nor pass with such modifications as the Senate may  think  fit or may refer  back  to the Syndicate,  as the    \\n \\n case may be, for reconsideration  of the proposed  draft  but the statutes  concerning any of the matters \\nmentioned in clauses (a) and (I) of sub -section (I) shall be initiated and  approved  by the Senate,  after \\nseeking  the views of the  Syndicate.  \\n(3) The Senate may initiate the statutes with respect to any matter in its  power  or with \\nrespect  to which  the statutes  may be framed  in terms  of the Act and approve  such statutes  after \\nseeking  the views  of the  Syndicate.  \\n28. Regulations. \\u2014(1) Subject  to the  provisions  of the Act and the statutes, the Academic \\nCouncil may propose regulations, to be published i n the  official Gazette, for  any of the following  \\nmatters: \\u2014 \\n(a) the courses of study for degrees, diplomas and certificates of the  Institute;  \\n(b) the manner  in which  the teaching  shall  be organized and conducted;  \\n(c) the admission  and expulsion  of students  to and from  the Institute;  \\n(d) the conditions under which students shall be admitted to the courses  and the \\nexaminations of the Institute and shall become eligible for  the award of  degrees, \\ndiplomas  and certificate;  \\n(e) the conduct  of examinations;  \\n(f) conditions under which a pe rson may carry on independent research  to entitle \\nhim to a degree;  \\n \\n(g) the institution  of fellowships,  scholarships,  exhibitions,  medals  and prizes; the \\nuse of  the library;  \\n(h) the formation  of Faculties,  departments  and board  of studies;  and \\n(i) all other  matters  which by the Act or the statutes  are to be or may be \\nprescribed by  regulations.  \\n(2) The Academic Council shall propose draft regulations and shall  submit the draft to the \\nSenate which may approve them or withhold approval or  refer  them  back  to the Academic Counc il \\nfor reconsideration.  \\n(3) The regulation proposed by the Academic Council shall not be  effective  \\nunless  they receive the  approval of  the Senate.  \\n(4) Regulations  regarding  or incidental  to matters  contained  in clauses  (g) and (i) of sub-\\nsection  (l) shall not  be submitted  to the Senate  without the  prior  approval  of the Syndicate.  \\n29. Amendment  and repeal  of Statutes  and Regulations. \\u2014The procedure for adding \\nto, amending or repelling the statutes and the regulations  shall be the same as that prescribed  \\nrespectively for framing or making of the  statutes  and regulations.  \\n30. Rules.\\u2014(1) An Authority or any other body of the Institute may  make and propose to \\nthe Syndicate the rules, that are consistent with the Act,  statutes and the regulations, to regulate any \\nmatter relating t o the affairs of the  Authority or body including rules to regulate the conduct  of \\nbusiness and the  time and place  of meetings and  related matters.  \\n(2) The Syndicate may, with or without modification, approve the rules  and the rules  shall  \\nbecome effective  upon approval by  the Syndicate.     \\n \\n CHAPTER -VI \\nTHE  INSTITUTE  FUND  \\n31. The Institute fund. \\u2014The Institute shall have a fund to which shall  be credited  its \\nincome  from  fees, charges,  donations,  trusts,  bequests,  endowments,  contributions,  grants and  all \\nother sources.  \\n32. Audits and accounts. \\u2014(1) The accounts of the Institute shall be  maintained  in such \\nform  and in such manner  as may  be prescribed.  \\n(2) The departments, colleges and all other  bodies designated as such  by the Syndicate in \\nterms of the statutes shall be independe nt costing centers of  the Institute with authority vested in the \\nhead of each costing center to sanction  expenditure  out of the budget  allocated  to it but re-\\nappropriation  from  one head  of expenditure  to another  may be made  by the head  of a costing  center  \\nin accordance  with and to  the extent  prescribed  by the statutes.  \\n(3) All funds generated by a department, college or other unit of the  Institute  through  \\nconsultancy,  research  or other  provision  of service  shall  be made available without prejudice to the \\nbudget ary allocation otherwise made,  after deduction of overheads in the manner and to the extent \\nprescribed by the  statutes, to the department, college or other unit for its development and a part of  \\nthe funds so generated may be shared with the Teachers or res earchers in charge  of the consultancy, \\nresearch or service concerned in the manner and to the extent  prescribed  by the statute.  \\n(4) No expenditure shall be made from the funds of the Institute, unless  a bill for its \\npayments  has been  issued  by the head  of the costing  center  concerned in accordance with the \\nrelevant statutes and the Treasurer has verified  that the payment is provided for in the approved \\nbudget of the costing center,  subject to the authority to re -appropriate available to the head of the \\ncosting  center.  \\n \\n(5) The Senate  shall  make  provision  for an internal  audit  of the finances  of the Institute.  \\n(6) Without  prejudice  to the requirement  of audit  by an auditor  appointed by Government in \\naccordance with the provisions of any other law, the  annual  audited  statement  of accounts  of the \\nInstitute  shall  be prepared  in conformity with the  generally accepted accounting principles  by a  \\nreputed firm  of chartered accountants and signed by the Treasurer and the annual audited  statement \\nof accounts so prepared shall be su bmitted to the Auditor General of  Pakistan  for his observations.  \\n(7) The observations  of the Auditor  General  of Pakistan,  if any, together with such \\nannotations as the Treasurer may make, shall be considered by  the Syndicate and shall be placed \\nbefore the Sena te within six months of closing  of the financial  year.  \\n \\nCHAPTER -VII \\nGENERAL  PROVISIONS  \\n33. Opportunity to show cause. \\u2014Except as otherwise provided by  law, no officer, Teacher \\nor other employee of the Institute holding a permanent  post shall be reduced in rank,  or removed or \\ncompulsorily retired from service for  cause arising out  of any act  or omission  on the  pan of  the \\nperson  concerned  unless he has been given a reasonable opportunity of showing cause against the  \\naction  proposed  to be  taken.  \\n    \\n \\n 34. Appeal  to the Synd icate  and the Senate.\\u2014Where  an  order  is passed punishing any \\nofficer other than the Vice -Chancellor, Teacher or other  employee  of the Institute  or altering  or \\ninterpreting  to his disadvantage  the prescribed terms or conditions of his service, he shall, wh ere the \\norder is passed  by any officer or teacher of the Institute other than the Vice -Chancellor, have the  right  \\nto appeal  to the Syndicate  against  the order,  and where  the order  is passed  by the Vice -Chancellor, \\nhave the right  to appeal  to the Senate.  \\n35. Service  of the Institute. \\u2014(1) All persons  employed  by the Institute in accordance with \\nthe terms and conditions of service prescribed by the  statutes  shall  be persons in  the service  of the \\nInstitute.  \\n(2)   An officer, teacher or other employee of the Institu te shall retire  from service  on the  \\nattainment  of such age  or tenure  of service  as may be prescribed.  \\n36. Benefits  and insurance. \\u2014The Institute  shall  constitute  for the benefit  of its officers,  \\nteachers  and other  employees  schemes,  as may be prescribed, for th e provision of post -employment \\nbenefits as well as health and  life insurance while  in service.  \\n37. Commencement of term of office of members of Authority. \\u2014(1) When  a member  of \\na newly  constituted  Authority  is elected,  appointed  or nominated, his term of office , as fixed under    \\nthis Act, shall commence from  such date as may  be prescribed.  \\n(2) Where a member who has accepted any other assignment or for any  other similar reason \\nremains absent from the Institute for a period of not less than  six months he  shall  be deemed to  have \\nresigned and  vacated his seat.  \\n38. Filling of casual vacancies in Authorities. \\u2014Any casual vacancy  among the members \\nof any Authority shall be filled, as soon as conveniently may  be, in the same manner and by the same \\nperson or Authority that h ad appointed  the member whose place has become vacant and the person \\nappointed to the  vacancy  shall  be a member  of such Authority  for the residue  of the term for \\nwhich  the person whose  place he  fills would  have been  a member.  \\n39. Flaws in the constitution of  Authorities. \\u2014Where there is a flaw  in the constitution of \\nan Authority, as constituted by this Act, the statutes or the  regulations  on account  of the abolition  of \\na specified  office  under  the Government or because an organization, institution or other body \\noutside the  Institute has been dissolved or has ceased to function, or because of some other  similar \\nreason, such flaw shall be removed in such manner as the Senate may  direct.  \\n \\n40. Proceedings  of Authorities  not invalidated  by the vacancies. \\u2014No act, resoluti on \\nor decision  of any Authority  shall  be invalid  by reason  of any vacancy in the Authority doing, \\npassing, or making it or by reason of any want of  qualification or invalidity in the  election, \\nappointment  or nomination of  any de-facto  member  of the Authori ty, whether  present  or absent.  \\n41. First  statutes.\\u2014Notwithstanding  anything  to the contrary  contained in this Act, the first \\nstatutes of the Institute contained in the Schedule  shall be deemed to be statutes framed under  section \\n26 and shall continue to  remain  in force until  amended or  replaced under  the Act.  \\n42. Removal  of difficulties. \\u2014(1) If any question  arises  as to the interpretation of any of the \\nprovisions of the Act, it shall be placed before the  Chancellor  whose decision  thereon  shall  be final.  \\n(2) If any diff iculty arises in giving effect to any of the provision the  Act, the Chancellor \\nmay make such order after obtaining the views of the Senate,  not inconsistent with the provisions of \\nthe Act, as may appear to him to be  necessary  for removing  the difficulty.     \\n \\n (3) Where the Act makes any provision for anything to be done but no  provision or  no \\nsufficient provision has been made as respects the authority by  whom, or the time at which, or the \\nmanner in which, it shall be done, then it shall  be done by such authority, a t such time, or in such \\nmanner as the Chancellor may  direct  after obtaining  the views of  the Senate.  \\n43. Indemnity. \\u2014No suit or legal  proceedings  shall  lie against  the Government,  the Institute  \\nor any Authority,  officer  or employee  of the Government or the Inst itute or any person in respect of \\nanything which is done in  good  faith under  this Act.  \\n \\n \\nSCHEDULE  \\n[See section  40] \\nThe First  Statutes  \\n1. Faculties. \\u2014(1) The  Schools,  Colleges, Teaching Departments and  Faculties  shall  be \\nknown as  constituent units of  the Instit ute. \\n(2) The Institute  shall  include  the following  Faculties: \\u2014 \\n(a) Faculty  of Islamic  Studies;  \\n(b) Faculty  of Languages;  \\n(c) Faculty  of Islamic  Shariah;  \\n(d) Faculty  of Economics;  \\n(e) Faculty  of Computer Sciences  \\n \\n(f) Faculty  of Management Sciences;  \\n(g) Faculty  of Health  and Medical Scien ces; \\n(h) Faculty  of Pharmacy  and Chemical  Technology;  \\n(i) Faculty  of Engineering  and Textile;  \\n(j) Faculty  of Agriculture  Forestry,  Mining;  and \\n(k) such other  Faculties  as may be established  under  the Act. \\n(3) The Islamic Studies and the Pakistan Studies shall be compulsory  subjects  for all  \\nstudents.  \\n(4) Each  Faculty  shall  include  such School,  College,  Teaching  Departments, teaching and \\ntraining units or research units as may be prescribed  by statutes  and approved by  professional  \\nregulatory  bodies,  if necessary.  \\n2. Board of Faculties. \\u2014(1) There shall be a Board for each Faculty  consisting  of:\\u2014 \\n(a) the Dean;  \\n(b) the Professors, Associate Professors and Chairman or Principal of  the \\nDepartment,  School  or Colleges  comprising  the Faculty;     \\n \\n (c) one member of each Board of Studies comprising the Faculty, shall  be \\nnominated  by the Senate;  and \\n(d) two teachers  to be nominated  by the Academic  Council  by reason  of their \\nspecialized  knowledge  of the subjects,  who though  not assigned  to the Faculty,  \\nhave  in the opinion  of the Academic  Council important  bearing  on the subject  \\nassigned  to the Faculty.  \\n(2) The members mentioned in clause (c) and (d) of sub -paragraph (I)  shall hold office  \\nfor three years.  \\n(3) The quorum for the meeting of the Board of a Faculty shall be half  of the total \\nnumber  of members,  fractions being  counte d as one.  \\n(4) The Board  of each Faculty shall, subject to the  general control  of the Academic \\nCouncil  and the Senate,  have the  following  powers: \\u2014 \\n(a) to co -ordinate the teaching and research in the subjects assigned to  the Faculty;  \\n(b) to scrutinize the schemes of cou rses and syllabi proposed by the  Board of the \\nStudies comprising the Faculty, and forward them to  the Academic Councils  \\nalong  with its observations;  \\n \\n(c) to scrutinize  the recommendations  of the Board  of Studies  comprising the \\nFaculty, on the appointment of pa per setters and  examiners, except for research \\ndegrees and to forward the panels of  suitable  persons  for each course  and \\nexamination  to the Vice -Chancellor; and  \\n(d) to perform  such other  functions  as may  be prescribed.  \\n3. Deans.\\u2014(1) There  shall  be a Dean  for each Faculty  who shall  be the Chairman  of the \\nBoard  of the Faculty,  and shall  be nominated  by the Chancellor from amongst the three senior  most \\nTeachers in the Faculty, on the  recommendations  of the Vice -Chancellor.  \\n(2) The Dean shall hold office for three years o r for a longer period of  time as may  be \\ndetermined  by the Vice -Chancellor.  \\n(3) The Dean shall present candidates for admission to degree courses,  except honorary  \\ndegrees,  in the courses  failing  within  the purview  of the  Faculty.  \\n(4) The Dean shall exercise such ot her powers and perform such other  duties  as may  be \\nprescribed.  \\n(5) The Dean shall supervise the academic work of the Faculty and  report  to the Vice -\\nChancellor  quarterly  about  the progress  of teaching  and research  in the Faculty.  \\n(6) The Dean with the approval of t he Vice -Chancellor shall lay down  procedures  for the \\nperformance and  evaluation  of teaching  and research  staff.  \\n4. Teaching  Departments. \\u2014(1) There  shall  be a Teaching  Department or a School or a \\nCollege for each subject or a group of allied subjects  as may be approved  and each Teaching  \\nDepartment  shall  be headed  by a Chairman  and a School  or College by  a Principal.  \\n(2) The Chairman and the Principal shall be appointed by the Senate  from amongst the \\nsenior Teachers of the Department, School or College or by  directl y advertising in the newspapers,    \\n \\n or on a contract basis or on a deputation  basis.  \\n \\n(3) The Chairman  or the Principal shall plan, organize and  supervise  the work of the \\nDepartment, School or College in accordance with the provision  of the Act, and shall be resp onsible \\nto the Dean of the Faculty in which the  Department. School or College is comprised for the work of \\nhis Department,  School  or College.  \\n5. Board of Studies. \\u2014(1) There shall be a Board of Studies for each  subject  or a group of  \\nsubjects as  may be prescrib ed by  the regulations.  \\n(2) Each  Board  of Studies  shall  consist  of:\\u2014 \\n(a) the Chairman  or Principal  of the Teaching  Department,  School  or College  \\nconcerned;  \\n(b) all Teachers  in the Teaching  Department,  School  or College  concerned;  \\n(c) two other  Teachers,  other  than Professo rs or Associate  Professors,  to be  \\nappointed by  the Academic Council;  and \\n(d) three  experts,  other  than Teachers,  to be appointed  by the Vice -Chancellor.  \\n \\n(3) The term of office  of members  of the Board  of Studies,  other  than ex-officio  \\nmembers,  shall  be three  years. \\n(4) The quorum  for a meeting  of the Board  of Studies  shall  be half of the total number  \\nof members, a  fraction being  counted  as one.  \\n(5) The Chairman  or Principal  shall  be the Convener  of the Board  of Studies  and the \\nBoard shall  perform  the following  functions:  \\n(a) to suggest  to Authorities  on all academic  matters  connected  \\nwith instructions,  research  and examinations  in the subjects  \\nconcerned;  \\n(b) to propose  curricula  and syllabi  for all degree,  diploma  and \\ncertificate  courses  in the  subject  or subjects  concerned;  \\n(c) to suggest a  panel of  names  of paper  setters  and examiners; and  \\n(d) to perform  such other  functions  as may  be prescribed.  \\n6. Board  of Advanced  Studies  and Research. \\u2014(1) There  shall  be Board  of \\nAdvanced  Studies  and research  consisting  of the following  members: \\u2014 \\n(a) the Vice-Chancellor,  who shall be  the Chairman;  \\n(b) the Principals;  \\n(c) the Deans;  \\n(d) two Institute  Professors,  other  than Deans,  to be appointed  by the Senate;  \\n(e) the Professors  Emeritus;     \\n \\n (f) two eminent  scholars  nominated  by the Vice -Chancellor;  \\n \\n(g) two Teachers  having  research  qualifications  and experience  to be appointed  by \\nthe Academic Council.  \\n(2) The term of office  of the members  of the Board  of Advanced  Studies  and Research, \\nother  than ex-officio members,  shall  be three  years.  \\n(3) The quorum for a meeting of the Board of Advanced Stud ies and  Research shall \\nbehalf of the total number of members, a fraction being counted as  one. \\n(4) The Board  of Advanced  Studies  and Research  shall  perform  the following  \\nfunctions: \\u2014 \\n(a) to advise  the Authorities  on all matters  connected  with the promotion  of \\nadvan ced studies  and research  in the  Institute;  \\n(b) to propose  regulations  regarding  the award  of research  degrees;  \\n(c) to recommend  panels  of names  of papers setters and  examiners  after \\nconsidering  the proposals  of the Board  of Studies  in this behalf;  \\n(d) to appoint super visors for research students and to determine the  subject  of their \\nthesis;  and \\n(e) to perform  such other  functions  as may  be prescribed by  statutes.  \\n7. Selection  Board.\\u2014(1) There  shall  be a Selection  Board  consisting  of:\\u2014the \\nChairman  of the Anjuman  who shall  be the Chairman;  \\n(a) the Vice -Chancellor;  \\n(b) one member  of the Senate  and two persons  of eminence  to be nominated \\nby the Senate provided that one of them is an employee  of the Institute;  \\n(c) the Chairman,  Higher  Education  Commission  or any full-time member of the \\nCommiss ion nominated by the Chairman, Higher  Education  Commission;  \\n(d) member of Federal Public Service Commission to be nominated by  the \\nChairman  of the Federal Public Service  Commission;  \\n(e) the Deans  of the Faculty  concerned;  \\n(f) the Chairman or Principal of the Teaching Department, School or  College  \\nconcerned;  and Board.  \\n(g) expert  to be  nominated  by the Anjuman.  \\n(2) The Registrar  of the Institute  shall  act as secretary  of the Selection  \\n \\n(3) The members of  the Selection Board other  than ex-officio  members,  should  hold \\noffice  for three years.  \\n(4) The quorum for a meeting of the Selection Board shall be five  members.  \\n(5) No member  of the Selection  Board  who is a candidate  for the post to which \\nappointment is to be made shall take part in such proceedings of the  Selection  Board.     \\n \\n (6) In selecting  candidates  for the post of Professor  and Associate  Professors, the \\nSelection Board shall, co -opt or consult two experts in the subject  concerned and in selecting \\ncandidates for other teaching post, one expert in the  subject concerned, to be nominated by the V ice-\\nChancellor, from a standing list  of experts of each subject  approved by  the Senate.  \\n(7) Subject experts from foreign countries may be called or appointed  on contract basis \\nfor a specified period. The foreign experts shall be appointed by  the Vice -Chancello r with the prior \\napproval of the Chancellor. They may be  exempted  to appear  before  the Selection  Board.  \\n \\n8. Function of the Selection Board. \\u2014(1) The Selection Board shall  consider  all \\napplications  for teaching  and other  officers\\u2019  posts  received  in response to  an advertisement and shall \\nrecommend to the Senate the names of  suitable  candidates  for appointment  to such posts.  \\n(2) The Selection Board may recommend to the Senate the grant of a  higher initial  pay in \\na suitable case  for reasons to  be recorded.  \\n(3) The Selecti on Board may recommend to the Senate of appointment  of an eminently \\nqualified person to a position in the Institute on the terms and  conditions  as may  be prescribed.  \\n(4) The Selection  Board  shall  consider  all cases  of promotion  of officers of the Institute \\nand recommend to the Senate the names of suitable  candidates  for such promotions.  \\n(5) In the event of an unresolved difference or opinion between the  Selection Board and \\nthe Senate, the matter shall be referred to the Chancellor  whose  decision  shall  be final.  \\n9. Finance and Planning Committee. \\u2014(1) There shall be a  Finance  and planning  \\nCommittee consisting  of:\\u2014 \\n \\n(a) the Chairman  of the Anjuman,  who shall be  the Chairman;  \\n(b) a nominee  of the  Anjuman;  \\n(c) a nominee  of the Senate;  \\n(d) one member  to be nominated  by the Minister  of Finan ce of the \\nGovernment;  \\n(e) two experts  in the field of finance  and planning  to be nominated  by the Vice -\\nChancellor;  \\n(f) two members  of the Academic  Council  to be nominated  by the Academic  \\nCouncil;  \\n(g) the Project  Director  of the Institute;  \\n(h)  one Dean  to be nominated by the Chancellor  on the recommendation  of the  \\nVice -Chancellor;  and \\n(i) Treasurer  who shall  be the Secretary  of the Finance  and Planning  Committee.  \\n(2) The quorum  for a meeting  of the Finance  and Planning  Committee  shall be  five \\nmembers.  \\n(3) The term of office  of the mem bers,  other  than ex-officio  members,  shall be  three years.     \\n \\n 10. Functions  of the Finance  and Planning  Committee. \\u2014The Finance  and planning  \\nCommittee shall perform  the following  functions: \\u2014 \\n(a) to consider annual statement of accounts, annual budget and revised  budge t \\nestimates  and advise the Senate  thereon;  \\n(b) to review  periodically  the financial  position  of the Institute;  \\n(c) to advise  the Senate  on all matters  relating  to planning  developments  and \\naccounts  of the Institute;  \\n(d) prepare  short  term and long term development  plans; \\n(e) prepare  staff and resources  development  plans;  and \\n(f) perform  such other  functions  as may  be prescribed  by statutes.  \\n11. Academic  Planning  and Development  Committee. \\u2014(1) There  shall be  an Academic  \\nPlanning  and Development Committee consisting  of:\\u2014 \\n(a) Vice -Chance llor who shall  be the Chairman;  \\n \\n(b) Deans;  \\n(c) the Chairman of Teaching Departments or the Principals of the  Schools  and \\nColleges;  \\n(d) one nominee  of the Senate;  \\n(e) one nominee  of the Anjuman;  \\n(f) Treasurer;  and \\n(g) The Registrar who shall act as secretary of the Academic Plann ing and \\nDevelopment  Committee.  \\n(2) The term of office of the members, excluding ex-officio members,  shall three years.  \\n(3) The quorum  to the meetings  of the Academic  Planning  and Development Committee \\nshall  be five. \\n12. Function  of the Academic  Planning  and Developmen t Committee. \\u2014The Academic  \\nPlanning  and Development  Committee  shall  perform  the following  functions: \\u2014 \\n(a) to review  periodically  the courses  of study  with a view  to improving  them;  \\n(b) to make recommendations to the Board of Advanced Studies and  Research and  \\nBoards of Studies for changes or modifications in  courses  in the  light of \\nexperience and  research  studies;  \\n(c) to prepare proposals for introduction of new courses at the various  levels  to the \\nrelevant  Committee;  \\n \\n(d) advise the Senate and Academic Council on all  matters related to  academic  \\nplanning,  development,  academic  programmes  and Facilities;  and \\n \\n \\n(e) to advise on such matters as are referred to it by the Vice - Chancellor.  \\n \",\n          \" \\nPage 1 of 3 \\n  \\n \\n  \\nTHE NATIONAL ZAKAT F OUNDATION (MERGER IN THE  \\nBAIT -UL-MAL)  ORDINANCE, 2001 \\n \\n \\n \\n \\nCONTENTS  \\n1. Short title and commencement  \\n2. Definitions  \\n3. Merger of Foundation in the Bait -ul-Mal \\n4. Transfer etc., of employees of the Foundation  \\n \\n   \\n \\nPage 2 of 3 \\n THE NATIONAL ZAKAT FO UNDATION  (MERGER IN THE  \\nBAIT -UL-MAL)  ORDINANCE, 2001 \\n ORDINANCE No. XVIII OF 2001  \\n[6th April, 2001 ] \\nAn Ordinance to provide for merger of the National Zakat Foundation in the  Bait-ul-Mal \\nWHEREAS it is expedient  to merger of the National Zakat Foundation in Bait -ul- Mal, and for \\nmatter connected therewith or ancillary thereto;  \\nAND WHEREAS the National Assembly and the Senate stands suspended in pursuance of the \\nProclamation of Emergency of the fourteenth day of O ctober, 1999 and the Provisional Constitution \\nOrder No. 1 of 1999.  \\nAND WHEREAS the President is satisfied that circumstances exist which render it necessary \\nto take immediate action;  \\nNOW, THEREFORE , in pursuance of the Proclamation of Emergency of the four teenth day of \\nOctober, 1999 and the Pro visional -Constitution Order No. 1 of 1999, read with the Provisional \\nConstitution (Amendment) Order 9 of 1999, and in exercise of all other powers enabling him in that \\nbehalf, the President of the Islamic Republic of Pakistan is pleased to make and promulgate the \\nfollowing Ordinance: \\u2014 \\n1. Short title and commencement.___(1) This Order tray be called the National Zakat  \\nFoundation (Merger in the Bait -ul-Mal) Ordinance, 2001.  \\n(2) It shall come into force at once.  \\n2. Defini tions.___In this Ordinance, unless there is anything repugnant in the subject or \\ncontext____ \\n(a) \\u201cappointed day \\u201d means the 31st day of March, 2001;  \\n(b) \\u201cBait-ul-Mal\\u201d means the Bait -ul-Mal established under the Pakistan \\nBait-ul- Mal Act, 1991 (1 of 1992); and  \\n(c) \\u201cFoundation \\u201d   means   the   National   Zakat   Foundation   established   \\nvide Notification No.S.R.0.162(1)/82, dated the 18th February, 1982.  \\n3.  Merger of Foundation in the Bait -ul-Mal.___ (1) Notwithstanding anything  contained in \\nany other law for the time being in force the in the Bait -ul-Mal and assets, properties, movable and \\nimmovable, debts, rights and liabilities of whatever kind to which the Foundati on, immediately before \\nthe appointed day was entitled or subject shall vest in Bait -ul-Mal and become the property, rights and \\nliabilities of the Bait -ul-Mal;  \\n(2) All contracts, bonds, agreements, power of attorneys, grants and all other instruments of \\nwhatever kind subsisting, owed or incurred by the Foundation or to which the Foundation may have \\nbeen a party or which relate or connected with the Foundation shall  remain in force and effect against  \\nPage 3 of 3 \\n the Bait -ul-Mal as they were before the appointed day again st the Foundation as if instead of \\nFoundation the Bait -ul-Mal had been a party thereto.  \\n(3) All suits, appeals or other legal proceedings of whatever nature by or against or relating  to  \\nthe  Foundation  which  shall  be  pending  on  the  appointed  day in  any Court, Tribunal or other \\nauthority shall be continued, prosecuted and in force in the same manner and to the same would have \\nbeen continued, prosecuted or enforced, by Foundation as if this Ordinance would not have been \\npromulgated, against the Bai t-ul-Mal and the same shall not abate, be discontinued any way prejudiced \\nor affected by the provisions of this Ordinance.  \\n4. Transfer etc., of employees of the Foundation.___ (1) Notwithstanding anything  contained  \\nin  any law  or  terms  and  conditions  of  service,  agreement,  contracts  or  other instrument, every \\nperson employed in, or under, the Foundation immediately before the appointed day including persons \\non deputation to other organizations sh all stand transferred to and become an employee of, the Bait -\\nul-Mal on the same terms and conditions, including remuneration, tenure of service, rights and \\nprivileges as to pension and gratuity and other matters  as  we're  applicable  to  him  immediately   \\nbefore  the  appointed  day,  until  his employment in the Bait -ul-Mal is terminated in accordance with \\nhis condition of service or his terms and conditions as are altered, by regulation, which shall not be \\nless favourable than those by which was governe d immediately before his transfer to the Bait -ul-Mal. \\n(2)  Any person referred to in sub -section (1) who is on deputation with the Foundation shall \\ncontinue in the employment of Bait -ul-Mal on deputation in accordance with the terms of his \\ndeputation:  \\nProv ided that if, within three months from the commencement of this Ordinance, he opts to be \\ntransferred to the service of Bait -ul-Mal on the terms and conditions referred to in sub -section  (1) he \\nshall stand so transferred.  \\n(3) Any person referred to  in sub -section (1), may, within three months, from the \\ncommencement of this Ordinance, opt not to be transferred to the service of Bait -ul-Mal and the option \\nso exercised shall be final.  \\n(4) The service of an employee who opts under sub -section (3) not to be trans ferred to the Bait -\\nul-Mal shall stand terminated on the day on which his option is accepted by the Bait - ul-Mal and he \\nshall be entitled to be paid by the Bail -ul-Mal compensation equal to three months remuneration.  \\nExplanation.__ The compensation payable to an employee in this subsection shall be  in addition \\nto and not in derogation of his right as to pension, gratuity, provident fund money or other benefit to \\nwhich he may be entitled under his conditions of service.  \\n(5) The terms of service of an employee  under sub -section (4) shall be deemed to be discharged \\nfrom service owing to abolition of a permanent post for the purpose of admissibility to \\ncompensation/pension.  \\n(6) No person referred to in sub -section (1) who stands transferred to Bait -ul-Mal shall, \\nnotwithstanding anything contained in any law, contract, agreement, or terms of conditions of service , \\nbe entitled to compensation because of his transf er. \"\n        ],\n        \"semantic_type\": \"\",\n        \"description\": \"\"\n      }\n    }\n  ]\n}"
            }
          },
          "metadata": {},
          "execution_count": 20
        }
      ],
      "source": [
        "df2.head()"
      ]
    },
    {
      "cell_type": "code",
      "execution_count": null,
      "metadata": {
        "id": "oyW-ouR0eZbA"
      },
      "outputs": [],
      "source": [
        "!kaggle datasets download -d quangbut/vietnamese-legal"
      ]
    },
    {
      "cell_type": "code",
      "execution_count": null,
      "metadata": {
        "id": "5dzwwZWgepGD"
      },
      "outputs": [],
      "source": [
        "!unzip vietnamese-legal.zip"
      ]
    },
    {
      "cell_type": "code",
      "execution_count": null,
      "metadata": {
        "id": "jRN7iou3ev82"
      },
      "outputs": [],
      "source": [
        "df3=pd.read_csv(\"/content/sent_truncated_dvc_train.csv\")"
      ]
    },
    {
      "cell_type": "code",
      "execution_count": 21,
      "metadata": {
        "colab": {
          "base_uri": "https://localhost:8080/"
        },
        "id": "wxO1Bz-Ne-Jb",
        "outputId": "f2fc312a-616a-4bf9-a14e-153bf6cb28c7"
      },
      "outputs": [
        {
          "output_type": "stream",
          "name": "stdout",
          "text": [
            "Dataset URL: https://www.kaggle.com/datasets/wustl/supreme-court\n",
            "License(s): CC-BY-NC-SA-4.0\n",
            "Downloading supreme-court.zip to /content\n",
            "  0% 0.00/654k [00:00<?, ?B/s]\n",
            "100% 654k/654k [00:00<00:00, 883MB/s]\n"
          ]
        }
      ],
      "source": [
        "!kaggle datasets download -d wustl/supreme-court"
      ]
    },
    {
      "cell_type": "code",
      "execution_count": 22,
      "metadata": {
        "colab": {
          "base_uri": "https://localhost:8080/"
        },
        "id": "SHbEIKjhfsnh",
        "outputId": "5c9caa27-2ed3-4703-a75d-5c64a0863560"
      },
      "outputs": [
        {
          "output_type": "stream",
          "name": "stdout",
          "text": [
            "Archive:  supreme-court.zip\n",
            "  inflating: database.csv            \n"
          ]
        }
      ],
      "source": [
        "!unzip supreme-court.zip"
      ]
    },
    {
      "cell_type": "code",
      "execution_count": 23,
      "metadata": {
        "id": "SOGv-rWlfwPI"
      },
      "outputs": [],
      "source": [
        "df4=pd.read_csv(\"/content/database.csv\")"
      ]
    },
    {
      "cell_type": "code",
      "execution_count": 24,
      "metadata": {
        "colab": {
          "base_uri": "https://localhost:8080/"
        },
        "id": "2GCIO4J9f8Dl",
        "outputId": "419fa29e-ab31-42f3-8576-89cf080910e5"
      },
      "outputs": [
        {
          "output_type": "stream",
          "name": "stdout",
          "text": [
            "Hit:1 http://archive.ubuntu.com/ubuntu jammy InRelease\n",
            "Get:2 http://security.ubuntu.com/ubuntu jammy-security InRelease [129 kB]\n",
            "Get:3 http://archive.ubuntu.com/ubuntu jammy-updates InRelease [128 kB]\n",
            "Get:4 https://cloud.r-project.org/bin/linux/ubuntu jammy-cran40/ InRelease [3,632 B]\n",
            "Get:5 https://developer.download.nvidia.com/compute/cuda/repos/ubuntu2204/x86_64  InRelease [1,581 B]\n",
            "Get:6 https://r2u.stat.illinois.edu/ubuntu jammy InRelease [6,555 B]\n",
            "Get:7 http://archive.ubuntu.com/ubuntu jammy-backports InRelease [127 kB]\n",
            "Hit:8 https://ppa.launchpadcontent.net/deadsnakes/ppa/ubuntu jammy InRelease\n",
            "Get:9 http://security.ubuntu.com/ubuntu jammy-security/universe amd64 Packages [1,269 kB]\n",
            "Hit:10 https://ppa.launchpadcontent.net/graphics-drivers/ppa/ubuntu jammy InRelease\n",
            "Get:11 http://security.ubuntu.com/ubuntu jammy-security/main amd64 Packages [3,160 kB]\n",
            "Hit:12 https://ppa.launchpadcontent.net/ubuntugis/ppa/ubuntu jammy InRelease\n",
            "Get:13 https://developer.download.nvidia.com/compute/cuda/repos/ubuntu2204/x86_64  Packages [1,853 kB]\n",
            "Get:14 https://r2u.stat.illinois.edu/ubuntu jammy/main amd64 Packages [2,768 kB]\n",
            "Get:15 http://archive.ubuntu.com/ubuntu jammy-updates/main amd64 Packages [3,471 kB]\n",
            "Get:16 https://r2u.stat.illinois.edu/ubuntu jammy/main all Packages [9,142 kB]\n",
            "Get:17 http://archive.ubuntu.com/ubuntu jammy-updates/universe amd64 Packages [1,574 kB]\n",
            "Fetched 23.6 MB in 3s (8,504 kB/s)\n",
            "Reading package lists... Done\n",
            "W: Skipping acquire of configured file 'main/source/Sources' as repository 'https://r2u.stat.illinois.edu/ubuntu jammy InRelease' does not seem to provide it (sources.list entry misspelt?)\n",
            "Reading package lists... Done\n",
            "Building dependency tree... Done\n",
            "Reading state information... Done\n",
            "ffmpeg is already the newest version (7:4.4.2-0ubuntu0.22.04.1).\n",
            "The following additional packages will be installed:\n",
            "  libportaudio2 libportaudiocpp0\n",
            "Suggested packages:\n",
            "  portaudio19-doc\n",
            "The following NEW packages will be installed:\n",
            "  libportaudio2 libportaudiocpp0 portaudio19-dev\n",
            "0 upgraded, 3 newly installed, 0 to remove and 35 not upgraded.\n",
            "Need to get 188 kB of archives.\n",
            "After this operation, 927 kB of additional disk space will be used.\n",
            "Get:1 http://archive.ubuntu.com/ubuntu jammy/universe amd64 libportaudio2 amd64 19.6.0-1.1 [65.3 kB]\n",
            "Get:2 http://archive.ubuntu.com/ubuntu jammy/universe amd64 libportaudiocpp0 amd64 19.6.0-1.1 [16.1 kB]\n",
            "Get:3 http://archive.ubuntu.com/ubuntu jammy/universe amd64 portaudio19-dev amd64 19.6.0-1.1 [106 kB]\n",
            "Fetched 188 kB in 0s (776 kB/s)\n",
            "Selecting previously unselected package libportaudio2:amd64.\n",
            "(Reading database ... 126284 files and directories currently installed.)\n",
            "Preparing to unpack .../libportaudio2_19.6.0-1.1_amd64.deb ...\n",
            "Unpacking libportaudio2:amd64 (19.6.0-1.1) ...\n",
            "Selecting previously unselected package libportaudiocpp0:amd64.\n",
            "Preparing to unpack .../libportaudiocpp0_19.6.0-1.1_amd64.deb ...\n",
            "Unpacking libportaudiocpp0:amd64 (19.6.0-1.1) ...\n",
            "Selecting previously unselected package portaudio19-dev:amd64.\n",
            "Preparing to unpack .../portaudio19-dev_19.6.0-1.1_amd64.deb ...\n",
            "Unpacking portaudio19-dev:amd64 (19.6.0-1.1) ...\n",
            "Setting up libportaudio2:amd64 (19.6.0-1.1) ...\n",
            "Setting up libportaudiocpp0:amd64 (19.6.0-1.1) ...\n",
            "Setting up portaudio19-dev:amd64 (19.6.0-1.1) ...\n",
            "Processing triggers for libc-bin (2.35-0ubuntu3.8) ...\n",
            "/sbin/ldconfig.real: /usr/local/lib/libtbbbind.so.3 is not a symbolic link\n",
            "\n",
            "/sbin/ldconfig.real: /usr/local/lib/libur_adapter_level_zero.so.0 is not a symbolic link\n",
            "\n",
            "/sbin/ldconfig.real: /usr/local/lib/libur_adapter_level_zero_v2.so.0 is not a symbolic link\n",
            "\n",
            "/sbin/ldconfig.real: /usr/local/lib/libur_loader.so.0 is not a symbolic link\n",
            "\n",
            "/sbin/ldconfig.real: /usr/local/lib/libtbbbind_2_0.so.3 is not a symbolic link\n",
            "\n",
            "/sbin/ldconfig.real: /usr/local/lib/libtcm_debug.so.1 is not a symbolic link\n",
            "\n",
            "/sbin/ldconfig.real: /usr/local/lib/libumf.so.0 is not a symbolic link\n",
            "\n",
            "/sbin/ldconfig.real: /usr/local/lib/libtbbmalloc_proxy.so.2 is not a symbolic link\n",
            "\n",
            "/sbin/ldconfig.real: /usr/local/lib/libtbbbind_2_5.so.3 is not a symbolic link\n",
            "\n",
            "/sbin/ldconfig.real: /usr/local/lib/libtbb.so.12 is not a symbolic link\n",
            "\n",
            "/sbin/ldconfig.real: /usr/local/lib/libur_adapter_opencl.so.0 is not a symbolic link\n",
            "\n",
            "/sbin/ldconfig.real: /usr/local/lib/libtcm.so.1 is not a symbolic link\n",
            "\n",
            "/sbin/ldconfig.real: /usr/local/lib/libtbbmalloc.so.2 is not a symbolic link\n",
            "\n",
            "/sbin/ldconfig.real: /usr/local/lib/libhwloc.so.15 is not a symbolic link\n",
            "\n",
            "  Preparing metadata (setup.py) ... \u001b[?25l\u001b[?25hdone\n",
            "\u001b[2K     \u001b[90m━━━━━━━━━━━━━━━━━━━━━━━━━━━━━━━━━━━━━━━━\u001b[0m \u001b[32m47.1/47.1 kB\u001b[0m \u001b[31m1.9 MB/s\u001b[0m eta \u001b[36m0:00:00\u001b[0m\n",
            "\u001b[?25h  Installing build dependencies ... \u001b[?25l\u001b[?25hdone\n",
            "  Getting requirements to build wheel ... \u001b[?25l\u001b[?25hdone\n",
            "  Preparing metadata (pyproject.toml) ... \u001b[?25l\u001b[?25hdone\n",
            "  Preparing metadata (setup.py) ... \u001b[?25l\u001b[?25hdone\n",
            "\u001b[2K   \u001b[90m━━━━━━━━━━━━━━━━━━━━━━━━━━━━━━━━━━━━━━━━\u001b[0m \u001b[32m55.1/55.1 kB\u001b[0m \u001b[31m3.5 MB/s\u001b[0m eta \u001b[36m0:00:00\u001b[0m\n",
            "\u001b[2K   \u001b[90m━━━━━━━━━━━━━━━━━━━━━━━━━━━━━━━━━━━━━━━━\u001b[0m \u001b[32m133.4/133.4 kB\u001b[0m \u001b[31m6.2 MB/s\u001b[0m eta \u001b[36m0:00:00\u001b[0m\n",
            "\u001b[2K   \u001b[90m━━━━━━━━━━━━━━━━━━━━━━━━━━━━━━━━━━━━━━━━\u001b[0m \u001b[32m42.6/42.6 kB\u001b[0m \u001b[31m2.7 MB/s\u001b[0m eta \u001b[36m0:00:00\u001b[0m\n",
            "\u001b[2K   \u001b[90m━━━━━━━━━━━━━━━━━━━━━━━━━━━━━━━━━━━━━━━━\u001b[0m \u001b[32m58.8/58.8 kB\u001b[0m \u001b[31m3.9 MB/s\u001b[0m eta \u001b[36m0:00:00\u001b[0m\n",
            "\u001b[2K   \u001b[90m━━━━━━━━━━━━━━━━━━━━━━━━━━━━━━━━━━━━━━━━\u001b[0m \u001b[32m65.0/65.0 kB\u001b[0m \u001b[31m4.2 MB/s\u001b[0m eta \u001b[36m0:00:00\u001b[0m\n",
            "\u001b[2K   \u001b[90m━━━━━━━━━━━━━━━━━━━━━━━━━━━━━━━━━━━━━━━━\u001b[0m \u001b[32m144.3/144.3 kB\u001b[0m \u001b[31m9.4 MB/s\u001b[0m eta \u001b[36m0:00:00\u001b[0m\n",
            "\u001b[2K   \u001b[90m━━━━━━━━━━━━━━━━━━━━━━━━━━━━━━━━━━━━━━━━\u001b[0m \u001b[32m32.9/32.9 MB\u001b[0m \u001b[31m42.9 MB/s\u001b[0m eta \u001b[36m0:00:00\u001b[0m\n",
            "\u001b[2K   \u001b[90m━━━━━━━━━━━━━━━━━━━━━━━━━━━━━━━━━━━━━━━━\u001b[0m \u001b[32m565.1/565.1 kB\u001b[0m \u001b[31m27.9 MB/s\u001b[0m eta \u001b[36m0:00:00\u001b[0m\n",
            "\u001b[2K   \u001b[90m━━━━━━━━━━━━━━━━━━━━━━━━━━━━━━━━━━━━━━━━\u001b[0m \u001b[32m1.3/1.3 MB\u001b[0m \u001b[31m56.2 MB/s\u001b[0m eta \u001b[36m0:00:00\u001b[0m\n",
            "\u001b[2K   \u001b[90m━━━━━━━━━━━━━━━━━━━━━━━━━━━━━━━━━━━━━━━━\u001b[0m \u001b[32m53.6/53.6 kB\u001b[0m \u001b[31m2.9 MB/s\u001b[0m eta \u001b[36m0:00:00\u001b[0m\n",
            "\u001b[?25h  Building wheel for googletrans (setup.py) ... \u001b[?25l\u001b[?25hdone\n",
            "  Building wheel for pyaudio (pyproject.toml) ... \u001b[?25l\u001b[?25hdone\n",
            "  Building wheel for jsonpath-rw (setup.py) ... \u001b[?25l\u001b[?25hdone\n",
            "\u001b[31mERROR: pip's dependency resolver does not currently take into account all the packages that are installed. This behaviour is the source of the following dependency conflicts.\n",
            "langsmith 0.4.8 requires httpx<1,>=0.23.0, but you have httpx 0.13.3 which is incompatible.\n",
            "google-genai 1.27.0 requires httpx<1.0.0,>=0.28.1, but you have httpx 0.13.3 which is incompatible.\n",
            "openai 1.97.1 requires httpx<1,>=0.23.0, but you have httpx 0.13.3 which is incompatible.\n",
            "firebase-admin 6.9.0 requires httpx[http2]==0.28.1, but you have httpx 0.13.3 which is incompatible.\n",
            "gradio 5.38.1 requires httpx<1.0,>=0.24.1, but you have httpx 0.13.3 which is incompatible.\n",
            "gradio-client 1.11.0 requires httpx>=0.24.1, but you have httpx 0.13.3 which is incompatible.\u001b[0m\u001b[31m\n",
            "\u001b[0m"
          ]
        }
      ],
      "source": [
        "# System packages\n",
        "!apt-get update -y\n",
        "!apt-get install -y portaudio19-dev ffmpeg\n",
        "\n",
        "# Python packages\n",
        "!pip install --quiet datasets mlcroissant transformers tensorflow \\\n",
        "    SpeechRecognition googletrans==4.0.0-rc1 pyaudio pydub\n"
      ]
    },
    {
      "cell_type": "code",
      "execution_count": 25,
      "metadata": {
        "colab": {
          "base_uri": "https://localhost:8080/"
        },
        "id": "BU_4kPX8igbE",
        "outputId": "0968b461-7375-4592-f928-a7b3672823f4"
      },
      "outputs": [
        {
          "output_type": "stream",
          "name": "stdout",
          "text": [
            "Collecting pipwin\n",
            "  Downloading pipwin-0.5.2.tar.gz (7.9 kB)\n",
            "  Preparing metadata (setup.py) ... \u001b[?25l\u001b[?25hdone\n",
            "Collecting docopt (from pipwin)\n",
            "  Downloading docopt-0.6.2.tar.gz (25 kB)\n",
            "  Preparing metadata (setup.py) ... \u001b[?25l\u001b[?25hdone\n",
            "Requirement already satisfied: requests in /usr/local/lib/python3.11/dist-packages (from pipwin) (2.32.3)\n",
            "Collecting pyprind (from pipwin)\n",
            "  Downloading PyPrind-2.11.3-py2.py3-none-any.whl.metadata (1.1 kB)\n",
            "Requirement already satisfied: six in /usr/local/lib/python3.11/dist-packages (from pipwin) (1.17.0)\n",
            "Requirement already satisfied: beautifulsoup4>=4.9.0 in /usr/local/lib/python3.11/dist-packages (from pipwin) (4.13.4)\n",
            "Collecting js2py (from pipwin)\n",
            "  Downloading Js2Py-0.74-py3-none-any.whl.metadata (868 bytes)\n",
            "Requirement already satisfied: packaging in /usr/local/lib/python3.11/dist-packages (from pipwin) (25.0)\n",
            "Collecting pySmartDL>=1.3.1 (from pipwin)\n",
            "  Downloading pySmartDL-1.3.4-py3-none-any.whl.metadata (2.8 kB)\n",
            "Requirement already satisfied: soupsieve>1.2 in /usr/local/lib/python3.11/dist-packages (from beautifulsoup4>=4.9.0->pipwin) (2.7)\n",
            "Requirement already satisfied: typing-extensions>=4.0.0 in /usr/local/lib/python3.11/dist-packages (from beautifulsoup4>=4.9.0->pipwin) (4.14.1)\n",
            "Requirement already satisfied: tzlocal>=1.2 in /usr/local/lib/python3.11/dist-packages (from js2py->pipwin) (5.3.1)\n",
            "Collecting pyjsparser>=2.5.1 (from js2py->pipwin)\n",
            "  Downloading pyjsparser-2.7.1.tar.gz (24 kB)\n",
            "  Preparing metadata (setup.py) ... \u001b[?25l\u001b[?25hdone\n",
            "Requirement already satisfied: charset-normalizer<4,>=2 in /usr/local/lib/python3.11/dist-packages (from requests->pipwin) (3.4.2)\n",
            "Requirement already satisfied: idna<4,>=2.5 in /usr/local/lib/python3.11/dist-packages (from requests->pipwin) (2.10)\n",
            "Requirement already satisfied: urllib3<3,>=1.21.1 in /usr/local/lib/python3.11/dist-packages (from requests->pipwin) (2.5.0)\n",
            "Requirement already satisfied: certifi>=2017.4.17 in /usr/local/lib/python3.11/dist-packages (from requests->pipwin) (2025.7.14)\n",
            "Downloading pySmartDL-1.3.4-py3-none-any.whl (20 kB)\n",
            "Downloading Js2Py-0.74-py3-none-any.whl (1.0 MB)\n",
            "\u001b[2K   \u001b[90m━━━━━━━━━━━━━━━━━━━━━━━━━━━━━━━━━━━━━━━━\u001b[0m \u001b[32m1.0/1.0 MB\u001b[0m \u001b[31m18.3 MB/s\u001b[0m eta \u001b[36m0:00:00\u001b[0m\n",
            "\u001b[?25hDownloading PyPrind-2.11.3-py2.py3-none-any.whl (8.4 kB)\n",
            "Building wheels for collected packages: pipwin, docopt, pyjsparser\n",
            "  Building wheel for pipwin (setup.py) ... \u001b[?25l\u001b[?25hdone\n",
            "  Created wheel for pipwin: filename=pipwin-0.5.2-py2.py3-none-any.whl size=8770 sha256=eade97eea69941f76d2a7cb268997ab1189f307dec59d71e817602dca1f77151\n",
            "  Stored in directory: /root/.cache/pip/wheels/07/45/2e/51ee464b7c3407327439df34c2fc62f978a1e5084aaf23d201\n",
            "  Building wheel for docopt (setup.py) ... \u001b[?25l\u001b[?25hdone\n",
            "  Created wheel for docopt: filename=docopt-0.6.2-py2.py3-none-any.whl size=13706 sha256=6aaa521eec1eb0ac1e973b4f2eb5a3059849e7fcb9a41e8dd4cfd7691a08ea1f\n",
            "  Stored in directory: /root/.cache/pip/wheels/1a/b0/8c/4b75c4116c31f83c8f9f047231251e13cc74481cca4a78a9ce\n",
            "  Building wheel for pyjsparser (setup.py) ... \u001b[?25l\u001b[?25hdone\n",
            "  Created wheel for pyjsparser: filename=pyjsparser-2.7.1-py3-none-any.whl size=25982 sha256=45171843bcae982c89005bb9e95b07cc462ed33d3d9a6f30b6d278af95bacbcf\n",
            "  Stored in directory: /root/.cache/pip/wheels/a5/9a/30/1003e89ab4555b81840ca46d361bf184f1e6ad880cae3b62a9\n",
            "Successfully built pipwin docopt pyjsparser\n",
            "Installing collected packages: pySmartDL, pyprind, pyjsparser, docopt, js2py, pipwin\n",
            "Successfully installed docopt-0.6.2 js2py-0.74 pipwin-0.5.2 pySmartDL-1.3.4 pyjsparser-2.7.1 pyprind-2.11.3\n",
            "/usr/local/lib/python3.11/dist-packages/pipwin/command.py:66: UserWarning: Found a non Windows system. Package installation might not work.\n",
            "  warn(\"Found a non Windows system. Package installation might not work.\")\n",
            "Building cache. Hang on . . .\n",
            "Traceback (most recent call last):\n",
            "  File \"/usr/local/bin/pipwin\", line 8, in <module>\n",
            "    sys.exit(main())\n",
            "             ^^^^^^\n",
            "  File \"/usr/local/lib/python3.11/dist-packages/pipwin/command.py\", line 84, in main\n",
            "    cache = pipwin.PipwinCache()\n",
            "            ^^^^^^^^^^^^^^^^^^^^\n",
            "  File \"/usr/local/lib/python3.11/dist-packages/pipwin/pipwin.py\", line 210, in __init__\n",
            "    self.data = build_cache()\n",
            "                ^^^^^^^^^^^^^\n",
            "  File \"/usr/local/lib/python3.11/dist-packages/pipwin/pipwin.py\", line 103, in build_cache\n",
            "    dl_function = re.search(r\"function dl.*\\}\", soup.find(\"script\").string).group(0)\n",
            "                  ^^^^^^^^^^^^^^^^^^^^^^^^^^^^^^^^^^^^^^^^^^^^^^^^^^^^^^^^^^^^^^^\n",
            "AttributeError: 'NoneType' object has no attribute 'group'\n"
          ]
        }
      ],
      "source": [
        "!pip install pipwin\n",
        "!pipwin install pyaudio\n"
      ]
    },
    {
      "cell_type": "code",
      "execution_count": 26,
      "metadata": {
        "id": "ER-uWI-TSCmt"
      },
      "outputs": [],
      "source": [
        "from huggingface_hub.file_download import build_hf_headers\n",
        "from google.colab import userdata\n",
        "from mlcroissant import Dataset\n",
        "import requests\n",
        "import pandas as pd"
      ]
    },
    {
      "cell_type": "code",
      "execution_count": 27,
      "metadata": {
        "id": "GdcfsFR8g9Lp"
      },
      "outputs": [],
      "source": [
        "from datasets import load_dataset"
      ]
    },
    {
      "cell_type": "code",
      "execution_count": 28,
      "metadata": {
        "id": "xzRiHsD1ikFW"
      },
      "outputs": [],
      "source": [
        "from huggingface_hub import login\n",
        "from google.colab import userdata\n",
        "from datasets import Dataset"
      ]
    },
    {
      "cell_type": "code",
      "execution_count": 29,
      "metadata": {
        "colab": {
          "base_uri": "https://localhost:8080/",
          "height": 359,
          "referenced_widgets": [
            "3e7379500bd14596a69521c6ff57c6f2",
            "09e5327c7db94e08b38d594108061e06",
            "a77edec07a3d4bcfb625b483e2dcbc9d",
            "5401325e92c249e7ba66c5abc015d2a7",
            "d0c14e0e198341b78bca673cb42a8419",
            "d15a67bda1ee4d1f94d06ecc760b6061",
            "4c56e8119b564585a7e7328f5f7f7f2e",
            "6d1659987803452b8c3d0e602ee51e7f",
            "a69065296d2a41829ece8d1a339a5fab",
            "83800fa2ba72491f8e2ebea40c738d5e",
            "bf258f2704d54a659f203a344006f9b2",
            "e6fb16fe446b4e829f8eeb146e413839",
            "bee3746c236a45ccb27f80e1580f5135",
            "45c87d6a312445e7943319c560ef18d5",
            "93712b63c5bc448ea051d886385549dd",
            "083331cca85b4c478b1940662719c8cf",
            "fcaad911f0194f708dc4680108458dc1"
          ]
        },
        "id": "dwXQZYyrjlnE",
        "outputId": "c5a2a827-6dce-4e27-d404-ea70b671e959"
      },
      "outputs": [
        {
          "output_type": "display_data",
          "data": {
            "text/plain": [
              "VBox(children=(HTML(value='<center> <img\\nsrc=https://huggingface.co/front/assets/huggingface_logo-noborder.sv…"
            ],
            "application/vnd.jupyter.widget-view+json": {
              "version_major": 2,
              "version_minor": 0,
              "model_id": "3e7379500bd14596a69521c6ff57c6f2"
            }
          },
          "metadata": {}
        }
      ],
      "source": [
        "login()"
      ]
    },
    {
      "cell_type": "code",
      "execution_count": 30,
      "metadata": {
        "id": "fFjcyltCP0FZ"
      },
      "outputs": [],
      "source": [
        "dataframes=[]"
      ]
    },
    {
      "cell_type": "code",
      "execution_count": 31,
      "metadata": {
        "colab": {
          "base_uri": "https://localhost:8080/"
        },
        "id": "MK0MPv9VVkQM",
        "outputId": "a3581d61-59ab-4851-c1f6-f894dfc45d8a"
      },
      "outputs": [
        {
          "output_type": "stream",
          "name": "stdout",
          "text": [
            "yes\n"
          ]
        }
      ],
      "source": [
        "try:\n",
        "    df_china = pd.read_parquet(\"hf://datasets/twang2218/chinese-law-and-regulations/data/train-00000-of-00001-8329bce6db03c820.parquet\")\n",
        "    dataframes.append(df_china)\n",
        "    print(\"yes\")\n",
        "except Exception as e:\n",
        "    print(\"❌ China dataset failed:\", e)"
      ]
    },
    {
      "cell_type": "code",
      "execution_count": 32,
      "metadata": {
        "colab": {
          "base_uri": "https://localhost:8080/"
        },
        "id": "2597d705",
        "outputId": "d340fde1-0462-460a-9e8c-0561f9d8d413"
      },
      "outputs": [
        {
          "output_type": "stream",
          "name": "stdout",
          "text": [
            "Requirement already satisfied: mlcroissant in /usr/local/lib/python3.11/dist-packages (1.0.20)\n",
            "Requirement already satisfied: absl-py in /usr/local/lib/python3.11/dist-packages (from mlcroissant) (1.4.0)\n",
            "Requirement already satisfied: etils>=1.7.0 in /usr/local/lib/python3.11/dist-packages (from etils[epath]>=1.7.0->mlcroissant) (1.13.0)\n",
            "Requirement already satisfied: jsonpath-rw in /usr/local/lib/python3.11/dist-packages (from mlcroissant) (1.4.0)\n",
            "Requirement already satisfied: networkx in /usr/local/lib/python3.11/dist-packages (from mlcroissant) (3.5)\n",
            "Requirement already satisfied: pandas in /usr/local/lib/python3.11/dist-packages (from mlcroissant) (2.2.2)\n",
            "Requirement already satisfied: pandas-stubs in /usr/local/lib/python3.11/dist-packages (from mlcroissant) (2.2.2.240909)\n",
            "Requirement already satisfied: python-dateutil in /usr/local/lib/python3.11/dist-packages (from mlcroissant) (2.9.0.post0)\n",
            "Requirement already satisfied: rdflib in /usr/local/lib/python3.11/dist-packages (from mlcroissant) (7.1.4)\n",
            "Requirement already satisfied: requests in /usr/local/lib/python3.11/dist-packages (from mlcroissant) (2.32.3)\n",
            "Requirement already satisfied: scipy in /usr/local/lib/python3.11/dist-packages (from mlcroissant) (1.16.0)\n",
            "Requirement already satisfied: tqdm in /usr/local/lib/python3.11/dist-packages (from mlcroissant) (4.67.1)\n",
            "Requirement already satisfied: fsspec in /usr/local/lib/python3.11/dist-packages (from etils[epath]>=1.7.0->mlcroissant) (2025.3.0)\n",
            "Requirement already satisfied: importlib_resources in /usr/local/lib/python3.11/dist-packages (from etils[epath]>=1.7.0->mlcroissant) (6.5.2)\n",
            "Requirement already satisfied: typing_extensions in /usr/local/lib/python3.11/dist-packages (from etils[epath]>=1.7.0->mlcroissant) (4.14.1)\n",
            "Requirement already satisfied: zipp in /usr/local/lib/python3.11/dist-packages (from etils[epath]>=1.7.0->mlcroissant) (3.23.0)\n",
            "Requirement already satisfied: ply in /usr/local/lib/python3.11/dist-packages (from jsonpath-rw->mlcroissant) (3.11)\n",
            "Requirement already satisfied: decorator in /usr/local/lib/python3.11/dist-packages (from jsonpath-rw->mlcroissant) (4.4.2)\n",
            "Requirement already satisfied: six in /usr/local/lib/python3.11/dist-packages (from jsonpath-rw->mlcroissant) (1.17.0)\n",
            "Requirement already satisfied: numpy>=1.23.2 in /usr/local/lib/python3.11/dist-packages (from pandas->mlcroissant) (2.0.2)\n",
            "Requirement already satisfied: pytz>=2020.1 in /usr/local/lib/python3.11/dist-packages (from pandas->mlcroissant) (2025.2)\n",
            "Requirement already satisfied: tzdata>=2022.7 in /usr/local/lib/python3.11/dist-packages (from pandas->mlcroissant) (2025.2)\n",
            "Requirement already satisfied: types-pytz>=2022.1.1 in /usr/local/lib/python3.11/dist-packages (from pandas-stubs->mlcroissant) (2025.2.0.20250516)\n",
            "Requirement already satisfied: pyparsing<4,>=2.1.0 in /usr/local/lib/python3.11/dist-packages (from rdflib->mlcroissant) (3.2.3)\n",
            "Requirement already satisfied: charset-normalizer<4,>=2 in /usr/local/lib/python3.11/dist-packages (from requests->mlcroissant) (3.4.2)\n",
            "Requirement already satisfied: idna<4,>=2.5 in /usr/local/lib/python3.11/dist-packages (from requests->mlcroissant) (2.10)\n",
            "Requirement already satisfied: urllib3<3,>=1.21.1 in /usr/local/lib/python3.11/dist-packages (from requests->mlcroissant) (2.5.0)\n",
            "Requirement already satisfied: certifi>=2017.4.17 in /usr/local/lib/python3.11/dist-packages (from requests->mlcroissant) (2025.7.14)\n"
          ]
        }
      ],
      "source": [
        "!pip install mlcroissant"
      ]
    },
    {
      "cell_type": "code",
      "execution_count": 33,
      "metadata": {
        "colab": {
          "base_uri": "https://localhost:8080/"
        },
        "id": "HeCqWdkNK2oV",
        "outputId": "f0104ce3-4454-4da4-da42-8206db4cf806"
      },
      "outputs": [
        {
          "output_type": "stream",
          "name": "stdout",
          "text": [
            "yes\n"
          ]
        }
      ],
      "source": [
        "try:\n",
        "    df_nz = pd.read_parquet(\"hf://datasets/LawItApps/NZ_humanrights_tribunal_decisions/data/train-00000-of-00001.parquet\")\n",
        "    dataframes.append(df_nz)\n",
        "    print(\"yes\")\n",
        "except Exception as e:\n",
        "    print(\"❌ NZ dataset failed:\", e)"
      ]
    },
    {
      "cell_type": "code",
      "execution_count": 34,
      "metadata": {
        "colab": {
          "base_uri": "https://localhost:8080/"
        },
        "id": "DwWU8aHyK2lK",
        "outputId": "94bcf64d-5e9b-4191-a280-19f9f85e9cfb"
      },
      "outputs": [
        {
          "output_type": "stream",
          "name": "stdout",
          "text": [
            "yes\n"
          ]
        }
      ],
      "source": [
        "# Load Indian dataset\n",
        "try:\n",
        "    df_india = pd.read_csv(\"hf://datasets/ninadn/indian-legal/train.csv\")\n",
        "    dataframes.append(df_india)\n",
        "    print(\"yes\")\n",
        "except Exception as e:\n",
        "    print(\"❌ India dataset failed:\", e)"
      ]
    },
    {
      "cell_type": "code",
      "execution_count": 35,
      "metadata": {
        "colab": {
          "base_uri": "https://localhost:8080/"
        },
        "id": "QMFX-EGueqPs",
        "outputId": "34a4b942-589a-45d0-c033-6e9f7c8ff3db"
      },
      "outputs": [
        {
          "output_type": "stream",
          "name": "stdout",
          "text": [
            "yes\n"
          ]
        }
      ],
      "source": [
        "try:\n",
        "    import pandas as pd\n",
        "    df = pd.read_parquet(\"hf://datasets/louisbrulenaudet/legalkit/data/train-00000-of-00001.parquet\")\n",
        "    print(\"yes\")\n",
        "except Exception as e:\n",
        "  print(\"❌ France:\", e)"
      ]
    },
    {
      "cell_type": "code",
      "execution_count": 36,
      "metadata": {
        "colab": {
          "base_uri": "https://localhost:8080/"
        },
        "id": "lNcFwPdRSo_P",
        "outputId": "e91e70e0-abd1-47c1-9620-676d4c2a6fb9"
      },
      "outputs": [
        {
          "output_type": "stream",
          "name": "stdout",
          "text": [
            "yes\n"
          ]
        }
      ],
      "source": [
        "try:\n",
        "    df_germany = pd.read_parquet(\"hf://datasets/elenanereiss/german-ler/data/train-00000-of-00001.parquet\")\n",
        "    dataframes.append(df_germany)\n",
        "    print(\"yes\")\n",
        "except Exception as e:\n",
        "    print(\"❌ Germany dataset failed:\", e)"
      ]
    },
    {
      "cell_type": "code",
      "execution_count": 37,
      "metadata": {
        "colab": {
          "base_uri": "https://localhost:8080/"
        },
        "id": "UhK-2YbvR231",
        "outputId": "e66aed3c-097b-44a2-9f28-201d39bcc191"
      },
      "outputs": [
        {
          "output_type": "stream",
          "name": "stdout",
          "text": [
            "yes\n"
          ]
        }
      ],
      "source": [
        "try:\n",
        "  import pandas as pd\n",
        "  # Login using e.g. `huggingface-cli login` to access this dataset\n",
        "  splits = {'train': 'data/train-00000-of-00001.parquet', 'test': 'data/test-00000-of-00001.parquet'}\n",
        "  df_thai = pd.read_parquet(\"hf://datasets/airesearch/WangchanX-Legal-ThaiCCL-RAG/\" + splits[\"train\"])\n",
        "  print(\"yes\")\n",
        "except Exception as e:\n",
        "    print(\"❌ Thailand dataset failed:\", e)"
      ]
    },
    {
      "cell_type": "code",
      "execution_count": 38,
      "metadata": {
        "id": "uwaB32YkSMks"
      },
      "outputs": [],
      "source": [
        "try:\n",
        "  import dask.dataframe as dd\n",
        "  # Login using e.g. `huggingface-cli login` to access this dataset\n",
        "  df_canada = dd.read_parquet(\"hf://datasets/refugee-law-lab/canadian-legal-data/*/*.parquet\")\n",
        "except Exception as e:\n",
        "    print(\"❌ canada dataset failed:\", e)"
      ]
    },
    {
      "cell_type": "code",
      "execution_count": 39,
      "metadata": {
        "colab": {
          "base_uri": "https://localhost:8080/"
        },
        "id": "G3uBB45nImdq",
        "outputId": "3f65dc59-95c3-4207-c54f-c51379c3cf37"
      },
      "outputs": [
        {
          "output_type": "stream",
          "name": "stdout",
          "text": [
            "Requirement already satisfied: SpeechRecognition in /usr/local/lib/python3.11/dist-packages (3.14.3)\n",
            "Requirement already satisfied: typing-extensions in /usr/local/lib/python3.11/dist-packages (from SpeechRecognition) (4.14.1)\n"
          ]
        }
      ],
      "source": [
        "%pip install SpeechRecognition"
      ]
    },
    {
      "cell_type": "code",
      "execution_count": 40,
      "metadata": {
        "colab": {
          "base_uri": "https://localhost:8080/"
        },
        "id": "v219rxFWqPug",
        "outputId": "2ec3a801-a5dd-4630-d655-50453196bf28"
      },
      "outputs": [
        {
          "output_type": "stream",
          "name": "stdout",
          "text": [
            "Reading package lists... Done\n",
            "Building dependency tree... Done\n",
            "Reading state information... Done\n",
            "portaudio19-dev is already the newest version (19.6.0-1.1).\n",
            "ffmpeg is already the newest version (7:4.4.2-0ubuntu0.22.04.1).\n",
            "0 upgraded, 0 newly installed, 0 to remove and 35 not upgraded.\n"
          ]
        }
      ],
      "source": [
        "# System dependencies\n",
        "!apt-get install -y portaudio19-dev ffmpeg\n",
        "\n",
        "# Python packages\n",
        "!pip install --quiet SpeechRecognition pyaudio pydub deep-translator\n"
      ]
    },
    {
      "cell_type": "code",
      "source": [
        "!pip install deep-translator\n",
        "# Required Libraries\n",
        "import pandas as pd\n",
        "from sklearn.feature_extraction.text import TfidfVectorizer\n",
        "from sklearn.metrics.pairwise import cosine_similarity\n",
        "from deep_translator import GoogleTranslator\n",
        "import re"
      ],
      "metadata": {
        "colab": {
          "base_uri": "https://localhost:8080/"
        },
        "id": "-56oJZ2N8y1F",
        "outputId": "4d1909ca-2335-4196-da4a-2991f643e3cc"
      },
      "execution_count": 41,
      "outputs": [
        {
          "output_type": "stream",
          "name": "stdout",
          "text": [
            "Requirement already satisfied: deep-translator in /usr/local/lib/python3.11/dist-packages (1.11.4)\n",
            "Requirement already satisfied: beautifulsoup4<5.0.0,>=4.9.1 in /usr/local/lib/python3.11/dist-packages (from deep-translator) (4.13.4)\n",
            "Requirement already satisfied: requests<3.0.0,>=2.23.0 in /usr/local/lib/python3.11/dist-packages (from deep-translator) (2.32.3)\n",
            "Requirement already satisfied: soupsieve>1.2 in /usr/local/lib/python3.11/dist-packages (from beautifulsoup4<5.0.0,>=4.9.1->deep-translator) (2.7)\n",
            "Requirement already satisfied: typing-extensions>=4.0.0 in /usr/local/lib/python3.11/dist-packages (from beautifulsoup4<5.0.0,>=4.9.1->deep-translator) (4.14.1)\n",
            "Requirement already satisfied: charset-normalizer<4,>=2 in /usr/local/lib/python3.11/dist-packages (from requests<3.0.0,>=2.23.0->deep-translator) (3.4.2)\n",
            "Requirement already satisfied: idna<4,>=2.5 in /usr/local/lib/python3.11/dist-packages (from requests<3.0.0,>=2.23.0->deep-translator) (2.10)\n",
            "Requirement already satisfied: urllib3<3,>=1.21.1 in /usr/local/lib/python3.11/dist-packages (from requests<3.0.0,>=2.23.0->deep-translator) (2.5.0)\n",
            "Requirement already satisfied: certifi>=2017.4.17 in /usr/local/lib/python3.11/dist-packages (from requests<3.0.0,>=2.23.0->deep-translator) (2025.7.14)\n"
          ]
        }
      ]
    },
    {
      "cell_type": "code",
      "source": [
        "pip install deep-translator tqdm\n"
      ],
      "metadata": {
        "colab": {
          "base_uri": "https://localhost:8080/"
        },
        "id": "KO21xTGpCOOI",
        "outputId": "3aa15dd0-ea36-4649-bac9-637108234299"
      },
      "execution_count": 52,
      "outputs": [
        {
          "output_type": "stream",
          "name": "stdout",
          "text": [
            "Requirement already satisfied: deep-translator in /usr/local/lib/python3.11/dist-packages (1.11.4)\n",
            "Requirement already satisfied: tqdm in /usr/local/lib/python3.11/dist-packages (4.67.1)\n",
            "Requirement already satisfied: beautifulsoup4<5.0.0,>=4.9.1 in /usr/local/lib/python3.11/dist-packages (from deep-translator) (4.13.4)\n",
            "Requirement already satisfied: requests<3.0.0,>=2.23.0 in /usr/local/lib/python3.11/dist-packages (from deep-translator) (2.32.3)\n",
            "Requirement already satisfied: soupsieve>1.2 in /usr/local/lib/python3.11/dist-packages (from beautifulsoup4<5.0.0,>=4.9.1->deep-translator) (2.7)\n",
            "Requirement already satisfied: typing-extensions>=4.0.0 in /usr/local/lib/python3.11/dist-packages (from beautifulsoup4<5.0.0,>=4.9.1->deep-translator) (4.14.1)\n",
            "Requirement already satisfied: charset-normalizer<4,>=2 in /usr/local/lib/python3.11/dist-packages (from requests<3.0.0,>=2.23.0->deep-translator) (3.4.2)\n",
            "Requirement already satisfied: idna<4,>=2.5 in /usr/local/lib/python3.11/dist-packages (from requests<3.0.0,>=2.23.0->deep-translator) (2.10)\n",
            "Requirement already satisfied: urllib3<3,>=1.21.1 in /usr/local/lib/python3.11/dist-packages (from requests<3.0.0,>=2.23.0->deep-translator) (2.5.0)\n",
            "Requirement already satisfied: certifi>=2017.4.17 in /usr/local/lib/python3.11/dist-packages (from requests<3.0.0,>=2.23.0->deep-translator) (2025.7.14)\n"
          ]
        }
      ]
    },
    {
      "cell_type": "code",
      "source": [
        "# Load Datasets\n",
        "import pandas as pd\n",
        "from sklearn.feature_extraction.text import TfidfVectorizer\n",
        "from sklearn.metrics.pairwise import cosine_similarity\n",
        "from deep_translator import GoogleTranslator\n",
        "import re\n",
        "datasets = {\n",
        "    \"india\": pd.read_csv(\"hf://datasets/ninadn/indian-legal/train.csv\"),\n",
        "    \"pakistan\":pd.read_json(\"/content/pdf_data.json\"),\n",
        "    \"Thailand\": pd.read_parquet(\"hf://datasets/airesearch/WangchanX-Legal-ThaiCCL-RAG/data/train-00000-of-00001.parquet\"),\n",
        "    \"china\":pd.read_parquet(\"hf://datasets/twang2218/chinese-law-and-regulations/data/train-00000-of-00001-8329bce6db03c820.parquet\")\n",
        "}\n",
        "\n",
        "from tqdm import tqdm  # Optional: shows progress bar\n",
        "\n",
        "from tqdm import tqdm  # Optional: shows progress bar\n",
        "\n",
        "# Preprocess and Combine (keep them separate in memory)\n",
        "for key in datasets:\n",
        "    df = datasets[key]\n",
        "    df.dropna(how='all', inplace=True)  # Drop rows where all columns are NaN\n",
        "    df = df.fillna(\"\")\n",
        "\n",
        "    try:\n",
        "        # Combine all text columns into one string\n",
        "        df['combined_text'] = df.astype(str).apply(lambda row: \" \".join(row), axis=1)\n",
        "\n",
        "        # 🌍 Translate datasets that are not in English (Thailand, Germany, China)\n",
        "        if key.lower() in [\"thailand\", \"germany\", \"china\"]:\n",
        "            print(f\"🔁 Translating {key.title()} dataset to English...\")\n",
        "            translated_rows = []\n",
        "            for text in tqdm(df['combined_text']):\n",
        "                try:\n",
        "                    translated_text = GoogleTranslator(source='auto', target='en').translate(text[:500])  # Limit to avoid long inputs\n",
        "                except:\n",
        "                    translated_text = text  # Fallback if error\n",
        "                translated_rows.append(translated_text)\n",
        "            df['combined_text'] = translated_rows\n",
        "\n",
        "        datasets[key] = df  # Update the dataset after processing\n",
        "\n",
        "    except Exception as e:\n",
        "        print(f\"❌ Error processing dataset '{key}': {e}\")\n",
        "\n",
        "# Combine for vectorization\n",
        "all_texts = []\n",
        "doc_index = []\n",
        "for name, df in datasets.items():\n",
        "    for i, row in df.iterrows():\n",
        "        all_texts.append(row['combined_text'])\n",
        "        doc_index.append((name, i))  # To map back to dataset and row\n",
        "\n",
        "# Vectorization\n",
        "vectorizer = TfidfVectorizer(stop_words='english')\n",
        "tfidf_matrix = vectorizer.fit_transform(all_texts)\n",
        "\n",
        "# Multilingual Search Function\n",
        "def search_query(user_query, top_k=3):\n",
        "    # Step 1: Translate to English\n",
        "    try:\n",
        "        translated = GoogleTranslator(source='auto', target='en').translate(user_query)\n",
        "    except Exception as e:\n",
        "        print(f\"Translation Error: {str(e)}\")\n",
        "        return []\n",
        "\n",
        "    # Step 2: Vectorize query\n",
        "    query_vec = vectorizer.transform([translated])\n",
        "\n",
        "    # Step 3: Calculate similarity\n",
        "    similarities = cosine_similarity(query_vec, tfidf_matrix).flatten()\n",
        "\n",
        "    # Step 4: Get top results\n",
        "    top_indices = similarities.argsort()[::-1][:top_k]\n",
        "\n",
        "    # Step 5: Return answers\n",
        "    results = []\n",
        "    for idx in top_indices:\n",
        "        dataset_name, row_index = doc_index[idx]\n",
        "        result_row = datasets[dataset_name].iloc[row_index]\n",
        "        results.append({\n",
        "            \"dataset\": dataset_name.title(),\n",
        "            \"score\": round(similarities[idx], 4),\n",
        "            \"result\": result_row.to_dict()\n",
        "        })\n",
        "    return results\n",
        "\n",
        "# Example Interaction\n",
        "while True:\n",
        "    user_input = input(\"👩‍⚖️ Ask a legal question (type 'exit'): \")\n",
        "    if user_input.lower() == 'exit':\n",
        "        break\n",
        "    response = search_query(user_input)\n",
        "    print(\"\\n📜 Top Legal Matches:\")\n",
        "    for res in response:\n",
        "        print(f\"📁 Dataset: {res['dataset']}\")\n",
        "        print(f\"🔍 Score: {res['score']}\")\n",
        "        print(f\"📖 Result: {res['result']}\")"
      ],
      "metadata": {
        "colab": {
          "base_uri": "https://localhost:8080/"
        },
        "id": "ibSXw4yR4b97",
        "outputId": "34b8543e-0c43-4b36-f5ba-472bfdd176cb"
      },
      "execution_count": null,
      "outputs": [
        {
          "output_type": "stream",
          "name": "stdout",
          "text": [
            "🔁 Translating Thailand dataset to English...\n"
          ]
        },
        {
          "output_type": "stream",
          "name": "stderr",
          "text": [
            "  5%|▌         | 442/8211 [07:01<2:20:11,  1.08s/it]"
          ]
        }
      ]
    }
  ],
  "metadata": {
    "colab": {
      "provenance": []
    },
    "kernelspec": {
      "display_name": "Python 3",
      "name": "python3"
    },
    "language_info": {
      "name": "python"
    },
    "widgets": {
      "application/vnd.jupyter.widget-state+json": {
        "3e7379500bd14596a69521c6ff57c6f2": {
          "model_module": "@jupyter-widgets/controls",
          "model_name": "VBoxModel",
          "model_module_version": "1.5.0",
          "state": {
            "_dom_classes": [],
            "_model_module": "@jupyter-widgets/controls",
            "_model_module_version": "1.5.0",
            "_model_name": "VBoxModel",
            "_view_count": null,
            "_view_module": "@jupyter-widgets/controls",
            "_view_module_version": "1.5.0",
            "_view_name": "VBoxView",
            "box_style": "",
            "children": [
              "IPY_MODEL_09e5327c7db94e08b38d594108061e06",
              "IPY_MODEL_a77edec07a3d4bcfb625b483e2dcbc9d",
              "IPY_MODEL_5401325e92c249e7ba66c5abc015d2a7",
              "IPY_MODEL_d0c14e0e198341b78bca673cb42a8419",
              "IPY_MODEL_d15a67bda1ee4d1f94d06ecc760b6061"
            ],
            "layout": "IPY_MODEL_4c56e8119b564585a7e7328f5f7f7f2e"
          }
        },
        "09e5327c7db94e08b38d594108061e06": {
          "model_module": "@jupyter-widgets/controls",
          "model_name": "HTMLModel",
          "model_module_version": "1.5.0",
          "state": {
            "_dom_classes": [],
            "_model_module": "@jupyter-widgets/controls",
            "_model_module_version": "1.5.0",
            "_model_name": "HTMLModel",
            "_view_count": null,
            "_view_module": "@jupyter-widgets/controls",
            "_view_module_version": "1.5.0",
            "_view_name": "HTMLView",
            "description": "",
            "description_tooltip": null,
            "layout": "IPY_MODEL_6d1659987803452b8c3d0e602ee51e7f",
            "placeholder": "​",
            "style": "IPY_MODEL_a69065296d2a41829ece8d1a339a5fab",
            "value": "<center> <img\nsrc=https://huggingface.co/front/assets/huggingface_logo-noborder.svg\nalt='Hugging Face'> <br> Copy a token from <a\nhref=\"https://huggingface.co/settings/tokens\" target=\"_blank\">your Hugging Face\ntokens page</a> and paste it below. <br> Immediately click login after copying\nyour token or it might be stored in plain text in this notebook file. </center>"
          }
        },
        "a77edec07a3d4bcfb625b483e2dcbc9d": {
          "model_module": "@jupyter-widgets/controls",
          "model_name": "PasswordModel",
          "model_module_version": "1.5.0",
          "state": {
            "_dom_classes": [],
            "_model_module": "@jupyter-widgets/controls",
            "_model_module_version": "1.5.0",
            "_model_name": "PasswordModel",
            "_view_count": null,
            "_view_module": "@jupyter-widgets/controls",
            "_view_module_version": "1.5.0",
            "_view_name": "PasswordView",
            "continuous_update": true,
            "description": "Token:",
            "description_tooltip": null,
            "disabled": false,
            "layout": "IPY_MODEL_83800fa2ba72491f8e2ebea40c738d5e",
            "placeholder": "​",
            "style": "IPY_MODEL_bf258f2704d54a659f203a344006f9b2",
            "value": ""
          }
        },
        "5401325e92c249e7ba66c5abc015d2a7": {
          "model_module": "@jupyter-widgets/controls",
          "model_name": "CheckboxModel",
          "model_module_version": "1.5.0",
          "state": {
            "_dom_classes": [],
            "_model_module": "@jupyter-widgets/controls",
            "_model_module_version": "1.5.0",
            "_model_name": "CheckboxModel",
            "_view_count": null,
            "_view_module": "@jupyter-widgets/controls",
            "_view_module_version": "1.5.0",
            "_view_name": "CheckboxView",
            "description": "Add token as git credential?",
            "description_tooltip": null,
            "disabled": false,
            "indent": true,
            "layout": "IPY_MODEL_e6fb16fe446b4e829f8eeb146e413839",
            "style": "IPY_MODEL_bee3746c236a45ccb27f80e1580f5135",
            "value": true
          }
        },
        "d0c14e0e198341b78bca673cb42a8419": {
          "model_module": "@jupyter-widgets/controls",
          "model_name": "ButtonModel",
          "model_module_version": "1.5.0",
          "state": {
            "_dom_classes": [],
            "_model_module": "@jupyter-widgets/controls",
            "_model_module_version": "1.5.0",
            "_model_name": "ButtonModel",
            "_view_count": null,
            "_view_module": "@jupyter-widgets/controls",
            "_view_module_version": "1.5.0",
            "_view_name": "ButtonView",
            "button_style": "",
            "description": "Login",
            "disabled": false,
            "icon": "",
            "layout": "IPY_MODEL_45c87d6a312445e7943319c560ef18d5",
            "style": "IPY_MODEL_93712b63c5bc448ea051d886385549dd",
            "tooltip": ""
          }
        },
        "d15a67bda1ee4d1f94d06ecc760b6061": {
          "model_module": "@jupyter-widgets/controls",
          "model_name": "HTMLModel",
          "model_module_version": "1.5.0",
          "state": {
            "_dom_classes": [],
            "_model_module": "@jupyter-widgets/controls",
            "_model_module_version": "1.5.0",
            "_model_name": "HTMLModel",
            "_view_count": null,
            "_view_module": "@jupyter-widgets/controls",
            "_view_module_version": "1.5.0",
            "_view_name": "HTMLView",
            "description": "",
            "description_tooltip": null,
            "layout": "IPY_MODEL_083331cca85b4c478b1940662719c8cf",
            "placeholder": "​",
            "style": "IPY_MODEL_fcaad911f0194f708dc4680108458dc1",
            "value": "\n<b>Pro Tip:</b> If you don't already have one, you can create a dedicated\n'notebooks' token with 'write' access, that you can then easily reuse for all\nnotebooks. </center>"
          }
        },
        "4c56e8119b564585a7e7328f5f7f7f2e": {
          "model_module": "@jupyter-widgets/base",
          "model_name": "LayoutModel",
          "model_module_version": "1.2.0",
          "state": {
            "_model_module": "@jupyter-widgets/base",
            "_model_module_version": "1.2.0",
            "_model_name": "LayoutModel",
            "_view_count": null,
            "_view_module": "@jupyter-widgets/base",
            "_view_module_version": "1.2.0",
            "_view_name": "LayoutView",
            "align_content": null,
            "align_items": "center",
            "align_self": null,
            "border": null,
            "bottom": null,
            "display": "flex",
            "flex": null,
            "flex_flow": "column",
            "grid_area": null,
            "grid_auto_columns": null,
            "grid_auto_flow": null,
            "grid_auto_rows": null,
            "grid_column": null,
            "grid_gap": null,
            "grid_row": null,
            "grid_template_areas": null,
            "grid_template_columns": null,
            "grid_template_rows": null,
            "height": null,
            "justify_content": null,
            "justify_items": null,
            "left": null,
            "margin": null,
            "max_height": null,
            "max_width": null,
            "min_height": null,
            "min_width": null,
            "object_fit": null,
            "object_position": null,
            "order": null,
            "overflow": null,
            "overflow_x": null,
            "overflow_y": null,
            "padding": null,
            "right": null,
            "top": null,
            "visibility": null,
            "width": "50%"
          }
        },
        "6d1659987803452b8c3d0e602ee51e7f": {
          "model_module": "@jupyter-widgets/base",
          "model_name": "LayoutModel",
          "model_module_version": "1.2.0",
          "state": {
            "_model_module": "@jupyter-widgets/base",
            "_model_module_version": "1.2.0",
            "_model_name": "LayoutModel",
            "_view_count": null,
            "_view_module": "@jupyter-widgets/base",
            "_view_module_version": "1.2.0",
            "_view_name": "LayoutView",
            "align_content": null,
            "align_items": null,
            "align_self": null,
            "border": null,
            "bottom": null,
            "display": null,
            "flex": null,
            "flex_flow": null,
            "grid_area": null,
            "grid_auto_columns": null,
            "grid_auto_flow": null,
            "grid_auto_rows": null,
            "grid_column": null,
            "grid_gap": null,
            "grid_row": null,
            "grid_template_areas": null,
            "grid_template_columns": null,
            "grid_template_rows": null,
            "height": null,
            "justify_content": null,
            "justify_items": null,
            "left": null,
            "margin": null,
            "max_height": null,
            "max_width": null,
            "min_height": null,
            "min_width": null,
            "object_fit": null,
            "object_position": null,
            "order": null,
            "overflow": null,
            "overflow_x": null,
            "overflow_y": null,
            "padding": null,
            "right": null,
            "top": null,
            "visibility": null,
            "width": null
          }
        },
        "a69065296d2a41829ece8d1a339a5fab": {
          "model_module": "@jupyter-widgets/controls",
          "model_name": "DescriptionStyleModel",
          "model_module_version": "1.5.0",
          "state": {
            "_model_module": "@jupyter-widgets/controls",
            "_model_module_version": "1.5.0",
            "_model_name": "DescriptionStyleModel",
            "_view_count": null,
            "_view_module": "@jupyter-widgets/base",
            "_view_module_version": "1.2.0",
            "_view_name": "StyleView",
            "description_width": ""
          }
        },
        "83800fa2ba72491f8e2ebea40c738d5e": {
          "model_module": "@jupyter-widgets/base",
          "model_name": "LayoutModel",
          "model_module_version": "1.2.0",
          "state": {
            "_model_module": "@jupyter-widgets/base",
            "_model_module_version": "1.2.0",
            "_model_name": "LayoutModel",
            "_view_count": null,
            "_view_module": "@jupyter-widgets/base",
            "_view_module_version": "1.2.0",
            "_view_name": "LayoutView",
            "align_content": null,
            "align_items": null,
            "align_self": null,
            "border": null,
            "bottom": null,
            "display": null,
            "flex": null,
            "flex_flow": null,
            "grid_area": null,
            "grid_auto_columns": null,
            "grid_auto_flow": null,
            "grid_auto_rows": null,
            "grid_column": null,
            "grid_gap": null,
            "grid_row": null,
            "grid_template_areas": null,
            "grid_template_columns": null,
            "grid_template_rows": null,
            "height": null,
            "justify_content": null,
            "justify_items": null,
            "left": null,
            "margin": null,
            "max_height": null,
            "max_width": null,
            "min_height": null,
            "min_width": null,
            "object_fit": null,
            "object_position": null,
            "order": null,
            "overflow": null,
            "overflow_x": null,
            "overflow_y": null,
            "padding": null,
            "right": null,
            "top": null,
            "visibility": null,
            "width": null
          }
        },
        "bf258f2704d54a659f203a344006f9b2": {
          "model_module": "@jupyter-widgets/controls",
          "model_name": "DescriptionStyleModel",
          "model_module_version": "1.5.0",
          "state": {
            "_model_module": "@jupyter-widgets/controls",
            "_model_module_version": "1.5.0",
            "_model_name": "DescriptionStyleModel",
            "_view_count": null,
            "_view_module": "@jupyter-widgets/base",
            "_view_module_version": "1.2.0",
            "_view_name": "StyleView",
            "description_width": ""
          }
        },
        "e6fb16fe446b4e829f8eeb146e413839": {
          "model_module": "@jupyter-widgets/base",
          "model_name": "LayoutModel",
          "model_module_version": "1.2.0",
          "state": {
            "_model_module": "@jupyter-widgets/base",
            "_model_module_version": "1.2.0",
            "_model_name": "LayoutModel",
            "_view_count": null,
            "_view_module": "@jupyter-widgets/base",
            "_view_module_version": "1.2.0",
            "_view_name": "LayoutView",
            "align_content": null,
            "align_items": null,
            "align_self": null,
            "border": null,
            "bottom": null,
            "display": null,
            "flex": null,
            "flex_flow": null,
            "grid_area": null,
            "grid_auto_columns": null,
            "grid_auto_flow": null,
            "grid_auto_rows": null,
            "grid_column": null,
            "grid_gap": null,
            "grid_row": null,
            "grid_template_areas": null,
            "grid_template_columns": null,
            "grid_template_rows": null,
            "height": null,
            "justify_content": null,
            "justify_items": null,
            "left": null,
            "margin": null,
            "max_height": null,
            "max_width": null,
            "min_height": null,
            "min_width": null,
            "object_fit": null,
            "object_position": null,
            "order": null,
            "overflow": null,
            "overflow_x": null,
            "overflow_y": null,
            "padding": null,
            "right": null,
            "top": null,
            "visibility": null,
            "width": null
          }
        },
        "bee3746c236a45ccb27f80e1580f5135": {
          "model_module": "@jupyter-widgets/controls",
          "model_name": "DescriptionStyleModel",
          "model_module_version": "1.5.0",
          "state": {
            "_model_module": "@jupyter-widgets/controls",
            "_model_module_version": "1.5.0",
            "_model_name": "DescriptionStyleModel",
            "_view_count": null,
            "_view_module": "@jupyter-widgets/base",
            "_view_module_version": "1.2.0",
            "_view_name": "StyleView",
            "description_width": ""
          }
        },
        "45c87d6a312445e7943319c560ef18d5": {
          "model_module": "@jupyter-widgets/base",
          "model_name": "LayoutModel",
          "model_module_version": "1.2.0",
          "state": {
            "_model_module": "@jupyter-widgets/base",
            "_model_module_version": "1.2.0",
            "_model_name": "LayoutModel",
            "_view_count": null,
            "_view_module": "@jupyter-widgets/base",
            "_view_module_version": "1.2.0",
            "_view_name": "LayoutView",
            "align_content": null,
            "align_items": null,
            "align_self": null,
            "border": null,
            "bottom": null,
            "display": null,
            "flex": null,
            "flex_flow": null,
            "grid_area": null,
            "grid_auto_columns": null,
            "grid_auto_flow": null,
            "grid_auto_rows": null,
            "grid_column": null,
            "grid_gap": null,
            "grid_row": null,
            "grid_template_areas": null,
            "grid_template_columns": null,
            "grid_template_rows": null,
            "height": null,
            "justify_content": null,
            "justify_items": null,
            "left": null,
            "margin": null,
            "max_height": null,
            "max_width": null,
            "min_height": null,
            "min_width": null,
            "object_fit": null,
            "object_position": null,
            "order": null,
            "overflow": null,
            "overflow_x": null,
            "overflow_y": null,
            "padding": null,
            "right": null,
            "top": null,
            "visibility": null,
            "width": null
          }
        },
        "93712b63c5bc448ea051d886385549dd": {
          "model_module": "@jupyter-widgets/controls",
          "model_name": "ButtonStyleModel",
          "model_module_version": "1.5.0",
          "state": {
            "_model_module": "@jupyter-widgets/controls",
            "_model_module_version": "1.5.0",
            "_model_name": "ButtonStyleModel",
            "_view_count": null,
            "_view_module": "@jupyter-widgets/base",
            "_view_module_version": "1.2.0",
            "_view_name": "StyleView",
            "button_color": null,
            "font_weight": ""
          }
        },
        "083331cca85b4c478b1940662719c8cf": {
          "model_module": "@jupyter-widgets/base",
          "model_name": "LayoutModel",
          "model_module_version": "1.2.0",
          "state": {
            "_model_module": "@jupyter-widgets/base",
            "_model_module_version": "1.2.0",
            "_model_name": "LayoutModel",
            "_view_count": null,
            "_view_module": "@jupyter-widgets/base",
            "_view_module_version": "1.2.0",
            "_view_name": "LayoutView",
            "align_content": null,
            "align_items": null,
            "align_self": null,
            "border": null,
            "bottom": null,
            "display": null,
            "flex": null,
            "flex_flow": null,
            "grid_area": null,
            "grid_auto_columns": null,
            "grid_auto_flow": null,
            "grid_auto_rows": null,
            "grid_column": null,
            "grid_gap": null,
            "grid_row": null,
            "grid_template_areas": null,
            "grid_template_columns": null,
            "grid_template_rows": null,
            "height": null,
            "justify_content": null,
            "justify_items": null,
            "left": null,
            "margin": null,
            "max_height": null,
            "max_width": null,
            "min_height": null,
            "min_width": null,
            "object_fit": null,
            "object_position": null,
            "order": null,
            "overflow": null,
            "overflow_x": null,
            "overflow_y": null,
            "padding": null,
            "right": null,
            "top": null,
            "visibility": null,
            "width": null
          }
        },
        "fcaad911f0194f708dc4680108458dc1": {
          "model_module": "@jupyter-widgets/controls",
          "model_name": "DescriptionStyleModel",
          "model_module_version": "1.5.0",
          "state": {
            "_model_module": "@jupyter-widgets/controls",
            "_model_module_version": "1.5.0",
            "_model_name": "DescriptionStyleModel",
            "_view_count": null,
            "_view_module": "@jupyter-widgets/base",
            "_view_module_version": "1.2.0",
            "_view_name": "StyleView",
            "description_width": ""
          }
        }
      }
    }
  },
  "nbformat": 4,
  "nbformat_minor": 0
}